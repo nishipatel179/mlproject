{
 "cells": [
  {
   "cell_type": "markdown",
   "id": "d87100a8-12bd-4334-b8fd-2685365c5246",
   "metadata": {},
   "source": [
    "PROBLEM STATMENT"
   ]
  },
  {
   "cell_type": "markdown",
   "id": "e1fe3e3f-3f05-4b35-a849-c85d24514b12",
   "metadata": {},
   "source": [
    "The large increase in shipping demand has not been matched by an increase in the capabilities of logistics companies.\n",
    "Delayed delivery can be a risk in many sectors, one of which is retail sales in e-commerce, late delivery will cause the product supply chain to be hampered and reduce the credibility of the retailer. Apart from that, delays by the expedition will also cause buyer disappointment which of course can be detrimental to the retailer."
   ]
  },
  {
   "cell_type": "markdown",
   "id": "8cc62f38-6e3c-4b3e-af85-c16d731049cc",
   "metadata": {},
   "source": [
    "GOAL"
   ]
  },
  {
   "cell_type": "markdown",
   "id": "88088cac-c1cd-47d8-8ce9-4d92e2dc2fb0",
   "metadata": {},
   "source": [
    "Building a binary classification machine learning model that can predict delays in logistics/product delivery in e-commerce with high accuracy"
   ]
  },
  {
   "cell_type": "markdown",
   "id": "2e09be2c-bbad-4327-a605-ec199901ee24",
   "metadata": {},
   "source": [
    "1)Analyze the data and determine the target feature/binary label (is_late -> (1 or 0), according to the problem statement (delay in delivery)\n",
    "2)Carry out data processing, to produce data that is clean from noise\n",
    "3)Carrying out feature engineering, by creating new features to add data patterns which will make it easier for the model to carry out classification (so it is hoped that the accuracy will increase)\n",
    "4)Select features with high importance using feature importance techniques (Pearson Correlation Matrix, KBest, ChiSquare, and SHAP), to reduce model complexity, computational load, and improve model performance\n",
    "5)Carry out modeling using several Baseline algorithms (Logistic Regression, SVM, and Decision Tree), as well as advanced algorithms using Ensemble Learning (XGBoost, LGBM, CatBoost, Adaboost, and Random Forest)\n",
    "6)Evaluate the model with accuracy metrics"
   ]
  },
  {
   "cell_type": "markdown",
   "id": "cef57aff-7173-4b51-9660-6f2cafcb880d",
   "metadata": {},
   "source": [
    "importing the library"
   ]
  },
  {
   "cell_type": "code",
   "execution_count": 1,
   "id": "3e518cba-d1ee-4121-bb4c-18283cd76c5b",
   "metadata": {},
   "outputs": [],
   "source": [
    "# importing common libraries\n",
    "import pandas as pd\n",
    "import numpy as np\n",
    "import matplotlib.pyplot as plt\n",
    "import seaborn as sns\n",
    "from sklearn import preprocessing\n",
    "from sklearn import metrics\n",
    "from sklearn.model_selection import train_test_split\n",
    "from sklearn.model_selection import KFold, StratifiedKFold, cross_val_score\n",
    "\n",
    "# libraries for evaluation\n",
    "pd.set_option('display.max_columns', 99)\n",
    "from sklearn.metrics import accuracy_score, classification_report, confusion_matrix, ConfusionMatrixDisplay, precision_score, recall_score, f1_score, roc_auc_score\n",
    "\n",
    "\n",
    "# importing time libraries\n",
    "from datetime import timedelta\n",
    "from datetime import datetime\n",
    "\n",
    "# libraries for baseline algorithm\n",
    "# from sklearn import svm\n",
    "# from sklearn.svm import SVC\n",
    "from sklearn.linear_model import LogisticRegression\n",
    "from sklearn.tree import DecisionTreeClassifier\n",
    "from sklearn import linear_model, tree, ensemble\n",
    "from sklearn.neighbors import KNeighborsClassifier\n",
    "\n",
    "# libraries for advanced algorithm\n",
    "import xgboost\n",
    "import xgboost as xgb\n",
    "from xgboost import XGBClassifier\n",
    "import lightgbm as lgb\n",
    "from lightgbm import LGBMClassifier\n",
    "from sklearn.ensemble import AdaBoostClassifier\n",
    "from sklearn.ensemble import RandomForestClassifier\n",
    "\n",
    "# libraries for feature selection\n",
    "from sklearn.ensemble import ExtraTreesClassifier\n",
    "from sklearn.feature_selection import SelectKBest\n",
    "from sklearn.feature_selection import chi2"
   ]
  },
  {
   "cell_type": "code",
   "execution_count": 2,
   "id": "d89ba0f4-0863-4444-a571-9cd58e04392f",
   "metadata": {},
   "outputs": [],
   "source": [
    "#loading the  train dataset into dataframe\n",
    "\n",
    "train_orders = pd.read_csv('train/df_Orders.csv')\n",
    "train_payments= pd.read_csv('train/df_Payments.csv')\n",
    "train_products = pd.read_csv('train/df_Products.csv')\n",
    "train_customers = pd.read_csv('train/df_customers.csv')\n",
    "train_orderitems = pd.read_csv('train/df_Orderitems.csv')"
   ]
  },
  {
   "cell_type": "code",
   "execution_count": 3,
   "id": "bae1cd56-3126-4a86-9539-d4e15be42eb4",
   "metadata": {},
   "outputs": [],
   "source": [
    "#loading the test dataset into dataframe\n",
    "\n",
    "test_orders = pd.read_csv('test/df_Orders.csv')\n",
    "test_payments= pd.read_csv('test/df_Payments.csv')\n",
    "test_products = pd.read_csv('test/df_Products.csv')\n",
    "test_customers = pd.read_csv('test/df_customers.csv')\n",
    "test_orderitems = pd.read_csv('test/df_Orderitems.csv')"
   ]
  },
  {
   "cell_type": "markdown",
   "id": "0f40ac2f-93df-4176-92d4-0c28f25682e4",
   "metadata": {},
   "source": [
    "EXPLORATORY DATA ANALYSIS"
   ]
  },
  {
   "cell_type": "code",
   "execution_count": 4,
   "id": "42385a7d-8e91-4bd2-826f-3c9ae28ee5e7",
   "metadata": {},
   "outputs": [],
   "source": [
    "#MERGING THE DATA\n",
    "train_products=train_products.drop_duplicates()"
   ]
  },
  {
   "cell_type": "code",
   "execution_count": 5,
   "id": "3e6b17ca-c3f5-41d5-8b72-1e147be6262f",
   "metadata": {},
   "outputs": [],
   "source": [
    "#merging the train data\n",
    "train_data = train_orders.merge(train_customers, on=\"customer_id\", how=\"left\")\n",
    "train_data = train_data.merge(train_orderitems, on=\"order_id\", how=\"left\")\n",
    "train_data = train_data.merge(train_payments, on=\"order_id\", how=\"left\")\n",
    "train_data = train_data.merge(train_products, on=\"product_id\", how=\"left\")"
   ]
  },
  {
   "cell_type": "code",
   "execution_count": 6,
   "id": "42be19c8-60eb-4696-b839-0ac9e6542851",
   "metadata": {},
   "outputs": [],
   "source": [
    "#merging the test data\n",
    "\n",
    "test_data = test_orders.merge(test_customers, on=\"customer_id\", how=\"left\")\n",
    "test_data = test_data.merge(test_orderitems, on=\"order_id\", how=\"left\")\n",
    "test_data = test_data.merge(test_payments, on=\"order_id\", how=\"left\")\n",
    "test_products = test_products.drop_duplicates()\n",
    "test_data = test_data.merge(test_products, on=\"product_id\", how=\"left\")"
   ]
  },
  {
   "cell_type": "code",
   "execution_count": 7,
   "id": "b97d2e64-8ebb-47bd-83d1-1210ae0b1cbb",
   "metadata": {},
   "outputs": [],
   "source": [
    "#to find out wheter it is late or not we onyl need to findthe where theorder has been delivered.\n",
    "\n",
    "train_data = train_data[train_data.order_status == 'delivered']\n"
   ]
  },
  {
   "cell_type": "markdown",
   "id": "ad6e401e-c8d0-4fc3-96c9-c1dcc0f7dcf7",
   "metadata": {},
   "source": [
    "Yes, whenever you're working with time-related data in Python, especially when you want to perform operations like comparisons, calculations, or formatting, it's generally a good practice to convert those time values into datetime objects"
   ]
  },
  {
   "cell_type": "code",
   "execution_count": 8,
   "id": "39073fac-6270-458b-85ae-4d539aecdb15",
   "metadata": {},
   "outputs": [],
   "source": [
    "# Convert order date and shipping date features to datetime type\n",
    "train_data[[\"order_purchase_timestamp\", \"order_approved_at\", \"order_delivered_timestamp\", \"order_estimated_delivery_date\"]] = train_data[[\"order_purchase_timestamp\", \"order_approved_at\", \"order_delivered_timestamp\", \"order_estimated_delivery_date\"]].apply(pd.to_datetime)\n",
    "test_data[[\"order_purchase_timestamp\", \"order_approved_at\"]] = test_data[[\"order_purchase_timestamp\", \"order_approved_at\"]].apply(pd.to_datetime)"
   ]
  },
  {
   "cell_type": "code",
   "execution_count": 9,
   "id": "e39f8d2a-cb75-44b8-be0e-5114bd649886",
   "metadata": {},
   "outputs": [],
   "source": [
    "#Let's remove the Order Status feature, because now it only contains delivered (it won't affect model training\n",
    "train_data = train_data.drop(['order_status'], axis=1)"
   ]
  },
  {
   "cell_type": "code",
   "execution_count": 10,
   "id": "265ba39b-7009-4cfc-acbf-f95f64c0d4f3",
   "metadata": {},
   "outputs": [],
   "source": [
    "#removing the na values\n",
    "train_data = train_data.dropna(subset=['order_approved_at', 'order_delivered_timestamp','product_category_name','product_weight_g','product_length_cm','product_height_cm','product_width_cm'])\n",
    "test_data = test_data.dropna(subset=['order_approved_at', 'product_category_name','product_weight_g','product_length_cm','product_height_cm','product_width_cm'])\n"
   ]
  },
  {
   "cell_type": "code",
   "execution_count": 11,
   "id": "0f60e831-fa43-4825-b724-5a9a03c8dd1e",
   "metadata": {},
   "outputs": [],
   "source": [
    "train_data.loc[:, 'is_late'] = (train_data['order_delivered_timestamp'] > train_data['order_estimated_delivery_date']).astype(int)\n"
   ]
  },
  {
   "cell_type": "code",
   "execution_count": 12,
   "id": "418f3ae3-1a2a-4818-b53b-d922c13e0262",
   "metadata": {},
   "outputs": [],
   "source": [
    "#It appears that the distribution of data that is late and not is quite imbalanced. This is quite normal in real world data"
   ]
  },
  {
   "cell_type": "markdown",
   "id": "2eb3eaee-0596-4e01-aa2e-afbf91ab2eca",
   "metadata": {},
   "source": [
    "Bivariate Analysis"
   ]
  },
  {
   "cell_type": "code",
   "execution_count": 13,
   "id": "7a8514c0-478d-4f36-977e-520bcd8113b7",
   "metadata": {},
   "outputs": [],
   "source": [
    "train_data['product_volume'] = train_data['product_length_cm'] * train_data['product_height_cm'] * train_data['product_width_cm']"
   ]
  },
  {
   "cell_type": "code",
   "execution_count": 14,
   "id": "d41432c8-a281-4625-94ff-1b78cfc1a241",
   "metadata": {},
   "outputs": [],
   "source": [
    "test_data['product_volume'] = test_data['product_length_cm'] * test_data['product_height_cm'] * test_data['product_width_cm']"
   ]
  },
  {
   "cell_type": "code",
   "execution_count": 15,
   "id": "410ba9cd-50da-45cd-aece-2f12031bc7ed",
   "metadata": {},
   "outputs": [
    {
     "data": {
      "text/plain": [
       "(38094, 21)"
      ]
     },
     "execution_count": 15,
     "metadata": {},
     "output_type": "execute_result"
    }
   ],
   "source": [
    "test_data.shape"
   ]
  },
  {
   "cell_type": "markdown",
   "id": "e51bbe1f-1c22-4369-8a33-fcdd0ec0584e",
   "metadata": {},
   "source": [
    "Volume Binning"
   ]
  },
  {
   "cell_type": "code",
   "execution_count": 16,
   "id": "6872f93c-8459-4729-80e5-03e0f0ec3450",
   "metadata": {},
   "outputs": [],
   "source": [
    "sectil = train_data['product_volume'].quantile([0.25]).values[0]\n",
    "thirtil = train_data['product_volume'].quantile([0.75]).values[0]\n",
    "train_data['volume_category'] = train_data['product_volume'].apply(lambda x:'large' if x>=thirtil else ('medium' if x>=sectil and x<thirtil else 'small'))"
   ]
  },
  {
   "cell_type": "code",
   "execution_count": 17,
   "id": "02c3c5e8-8600-4077-bd3b-004532d209e1",
   "metadata": {},
   "outputs": [],
   "source": [
    "test_data['volume_category'] = test_data['product_volume'].apply(lambda x:'large' if x>=thirtil else ('medium' if x>=sectil and x<thirtil else 'small'))"
   ]
  },
  {
   "cell_type": "code",
   "execution_count": 18,
   "id": "0721c545-6216-46fc-816a-924a2823b74a",
   "metadata": {},
   "outputs": [],
   "source": [
    "volume_late = train_data[train_data.is_late == 1]['volume_category'].value_counts().rename_axis('volume_category').reset_index(name='late_counts')\n",
    "volume_all = train_data['volume_category'].value_counts().rename_axis('volume_category').reset_index(name='all_counts')\n",
    "volume_late['all_count'] = volume_late.volume_category.map(volume_all.set_index('volume_category')['all_counts'])\n",
    "volume_late['late_prop'] = volume_late['late_counts'] / volume_late['all_count']\n",
    "volume_list = volume_late['volume_category'].to_list()\n"
   ]
  },
  {
   "cell_type": "code",
   "execution_count": 19,
   "id": "fc162827-5d94-4f02-837d-1ec0a2907e9e",
   "metadata": {},
   "outputs": [],
   "source": [
    "def propVolLate(data):\n",
    "    if(data in volume_list):\n",
    "        return volume_late[volume_late.volume_category == data]['late_prop'].values[0]\n",
    "    else:\n",
    "        return 0\n",
    "\n",
    "train_data['vol_late_prop'] = train_data['volume_category'].apply(propVolLate)\n"
   ]
  },
  {
   "cell_type": "code",
   "execution_count": 20,
   "id": "218e0d9f-a4f9-4eec-aea0-fb193c9c85bf",
   "metadata": {},
   "outputs": [],
   "source": [
    "test_data['vol_late_prop'] = test_data['volume_category'].apply(propVolLate)\n"
   ]
  },
  {
   "cell_type": "code",
   "execution_count": 21,
   "id": "a49beb1e-d520-491c-8d07-9b9243f32015",
   "metadata": {},
   "outputs": [],
   "source": [
    "train_data['purchase_day_of_week'] = train_data['order_purchase_timestamp'].dt.dayofweek\n",
    "train_data['approved_day_of_week'] = train_data['order_approved_at'].dt.dayofweek"
   ]
  },
  {
   "cell_type": "code",
   "execution_count": 22,
   "id": "adedc0e3-3cb1-4b6e-a78d-691b67bd8601",
   "metadata": {},
   "outputs": [],
   "source": [
    "test_data['purchase_day_of_week'] = test_data['order_purchase_timestamp'].dt.dayofweek\n",
    "test_data['approved_day_of_week'] = test_data['order_approved_at'].dt.dayofweek"
   ]
  },
  {
   "cell_type": "code",
   "execution_count": 23,
   "id": "d4d7f08a-aa13-4e9a-a8fc-5f0b76a0a1eb",
   "metadata": {},
   "outputs": [],
   "source": [
    "pur_late = train_data[train_data.is_late == 1]['purchase_day_of_week'].value_counts().rename_axis('purchase_day_of_week').reset_index(name='late_counts')\n",
    "pur_all = train_data['purchase_day_of_week'].value_counts().rename_axis('purchase_day_of_week').reset_index(name='all_counts')\n",
    "pur_late['all_count'] = pur_late.purchase_day_of_week.map(pur_all.set_index('purchase_day_of_week')['all_counts'])\n",
    "pur_late['late_prop'] = pur_late['late_counts'] / pur_late['all_count']\n",
    "pur_late['day_of_week'] = pur_late['purchase_day_of_week'].map({0: 'Monday', 1:'Tuesday', 2:'Wednesday', 3:'Thursday', 4:'Friday', 5:'Saturday', 6:'Sunday'})\n",
    "pur_list = pur_late['purchase_day_of_week'].to_list()\n"
   ]
  },
  {
   "cell_type": "code",
   "execution_count": 24,
   "id": "496a2057-36cf-45ff-82f7-f1c210a8430d",
   "metadata": {},
   "outputs": [],
   "source": [
    "def propPurLate(data):\n",
    "    if(data in pur_list):\n",
    "        return pur_late[pur_late.purchase_day_of_week == data]['late_prop'].values[0]\n",
    "    else:\n",
    "        return 0\n",
    "\n",
    "train_data['pur_late_prop'] = train_data['purchase_day_of_week'].apply(propPurLate)\n"
   ]
  },
  {
   "cell_type": "code",
   "execution_count": 25,
   "id": "ddcd0ea8-70cf-4a31-ad3b-d957444abd23",
   "metadata": {},
   "outputs": [],
   "source": [
    "test_data['pur_late_prop'] = test_data['purchase_day_of_week'].apply(propPurLate)\n"
   ]
  },
  {
   "cell_type": "code",
   "execution_count": 26,
   "id": "74fb2f4c-1cc8-4efa-b291-97d16ceaf1c0",
   "metadata": {},
   "outputs": [],
   "source": [
    "app_late = train_data[train_data.is_late == 1]['approved_day_of_week'].value_counts().rename_axis('approved_day_of_week').reset_index(name='late_counts')\n",
    "app_all = train_data['approved_day_of_week'].value_counts().rename_axis('approved_day_of_week').reset_index(name='all_counts')\n",
    "app_late['all_count'] = app_late.approved_day_of_week.map(app_all.set_index('approved_day_of_week')['all_counts'])\n",
    "app_late['late_prop'] = app_late['late_counts'] / app_late['all_count']\n",
    "app_late['day_of_week'] = app_late['approved_day_of_week'].map({0: 'Monday', 1:'Tuesday', 2:'Wednesday', 3:'Thursday', 4:'Friday', 5:'Saturday', 6:'Sunday'})\n",
    "app_list = app_late['approved_day_of_week'].to_list()\n"
   ]
  },
  {
   "cell_type": "code",
   "execution_count": 27,
   "id": "9e041d9e-7907-40cf-bf72-62df07a35386",
   "metadata": {},
   "outputs": [],
   "source": [
    "def propAppLate(data):\n",
    "    if(data in app_list):\n",
    "        return app_late[app_late.approved_day_of_week == data]['late_prop'].values[0]\n",
    "    else:\n",
    "        return 0\n",
    "\n",
    "train_data['app_late_prop'] = train_data['approved_day_of_week'].apply(propAppLate)\n"
   ]
  },
  {
   "cell_type": "code",
   "execution_count": 28,
   "id": "5da37be3-14d2-4a61-ba42-b5118c0b26f8",
   "metadata": {},
   "outputs": [],
   "source": [
    "test_data['app_late_prop'] = test_data['approved_day_of_week'].apply(propAppLate)\n"
   ]
  },
  {
   "cell_type": "code",
   "execution_count": 29,
   "id": "7046012d-f95c-4178-bc7b-0fb15fd8cf26",
   "metadata": {},
   "outputs": [],
   "source": [
    "train_data['purchase_hour'] = train_data['order_purchase_timestamp'].dt.hour\n",
    "train_data['approved_hour'] = train_data['order_approved_at'].dt.hour\n"
   ]
  },
  {
   "cell_type": "code",
   "execution_count": 30,
   "id": "098d3502-c054-49df-9575-8a28c7203e88",
   "metadata": {},
   "outputs": [],
   "source": [
    "test_data['purchase_hour'] = test_data['order_purchase_timestamp'].dt.hour\n",
    "test_data['approved_hour'] = test_data['order_approved_at'].dt.hour\n"
   ]
  },
  {
   "cell_type": "code",
   "execution_count": 31,
   "id": "5dc1fed6-db39-450d-9b6e-a13215015520",
   "metadata": {},
   "outputs": [],
   "source": [
    "purh_late = train_data[train_data.is_late == 1]['purchase_hour'].value_counts().rename_axis('purchase_hour').reset_index(name='late_counts')\n",
    "purh_all = train_data['purchase_hour'].value_counts().rename_axis('purchase_hour').reset_index(name='all_counts')\n",
    "purh_late['all_count'] = purh_late.purchase_hour.map(purh_all.set_index('purchase_hour')['all_counts'])\n",
    "purh_late['late_prop'] = purh_late['late_counts'] / purh_late['all_count']\n",
    "purh_list =purh_late['purchase_hour'].to_list()\n",
    "purh_late['hour'] = purh_late['purchase_hour'].map({0: '00.00', 1: '01.00', 2: '02.00', 3:'03.00', 4:'04.00', 5:'05.00', 6:'06.00', 7:'07.00',8:'08.00',9:'09.00',10:'10.00',11:'11.00',12:'12.00',13:'13.00',14:'14.00',15:'15.00',16:'16.00',17:'17.00',18:'18.00',19:'19.00',20:'20.00',21:'21.00',22:'22.00',23:'23.00'})\n"
   ]
  },
  {
   "cell_type": "code",
   "execution_count": 32,
   "id": "cc4819da-8142-459c-a778-eb3adf2a4a47",
   "metadata": {},
   "outputs": [],
   "source": [
    "def propPurhLate(data):\n",
    "    if(data in purh_list):\n",
    "        return purh_late[purh_late.purchase_hour == data]['late_prop'].values[0]\n",
    "    else:\n",
    "        return 0\n",
    "\n",
    "train_data['purh_late_prop'] = train_data['purchase_hour'].apply(propPurhLate)\n"
   ]
  },
  {
   "cell_type": "code",
   "execution_count": 33,
   "id": "7d96b0e5-6988-4028-8c0f-d57429c4d525",
   "metadata": {},
   "outputs": [],
   "source": [
    "test_data['purh_late_prop'] = test_data['purchase_hour'].apply(propPurhLate)\n"
   ]
  },
  {
   "cell_type": "code",
   "execution_count": 34,
   "id": "3c743e2d-3eaf-4cc6-b035-d125f8736602",
   "metadata": {},
   "outputs": [],
   "source": [
    "apph_late = train_data[train_data.is_late == 1]['approved_hour'].value_counts().rename_axis('approved_hour').reset_index(name='late_counts')\n",
    "apph_all = train_data['approved_hour'].value_counts().rename_axis('approved_hour').reset_index(name='all_counts')\n",
    "apph_late['all_count'] = apph_late.approved_hour.map(apph_all.set_index('approved_hour')['all_counts'])\n",
    "apph_late['late_prop'] = apph_late['late_counts'] / apph_late['all_count']\n",
    "apph_list =apph_late['approved_hour'].to_list()\n",
    "apph_late['hour'] = apph_late['approved_hour'].map({0: '00.00', 1: '01.00', 2: '02.00', 3:'03.00', 4:'04.00', 5:'05.00', 6:'06.00', 7:'07.00',8:'08.00',9:'09.00',10:'10.00',11:'11.00',12:'12.00',13:'13.00',14:'14.00',15:'15.00',16:'16.00',17:'17.00',18:'18.00',19:'19.00',20:'20.00',21:'21.00',22:'22.00',23:'23.00'})\n"
   ]
  },
  {
   "cell_type": "code",
   "execution_count": 35,
   "id": "77ac20ea-0bb5-4983-a7f7-1c074385c5c8",
   "metadata": {},
   "outputs": [],
   "source": [
    "def propApphLate(data):\n",
    "    if(data in apph_list):\n",
    "        return apph_late[apph_late.approved_hour == data]['late_prop'].values[0]\n",
    "    else:\n",
    "        return 0\n",
    "\n",
    "train_data['apph_late_prop'] = train_data['approved_hour'].apply(propApphLate)\n"
   ]
  },
  {
   "cell_type": "code",
   "execution_count": 36,
   "id": "1af547fb-4a28-4634-b70b-adf977a92fe4",
   "metadata": {},
   "outputs": [],
   "source": [
    "test_data['apph_late_prop'] = test_data['approved_hour'].apply(propApphLate)\n"
   ]
  },
  {
   "cell_type": "code",
   "execution_count": 37,
   "id": "906eac1b-8bb6-419f-a93b-6a057dd46130",
   "metadata": {},
   "outputs": [
    {
     "data": {
      "text/plain": [
       "0         0.0\n",
       "1         0.0\n",
       "2        23.0\n",
       "3         0.0\n",
       "4         0.0\n",
       "         ... \n",
       "89311    35.0\n",
       "89312    15.0\n",
       "89313     4.0\n",
       "89314     0.0\n",
       "89315     0.0\n",
       "Name: approved_min_purchase, Length: 87109, dtype: float64"
      ]
     },
     "execution_count": 37,
     "metadata": {},
     "output_type": "execute_result"
    }
   ],
   "source": [
    "train_data['approved_min_purchase'] = ((train_data['order_approved_at'] - train_data['order_purchase_timestamp']).astype('timedelta64[s]') / pd.Timedelta(hours=1)).astype(int)\n",
    "train_data['approved_min_purchase'].astype(float)\n"
   ]
  },
  {
   "cell_type": "code",
   "execution_count": 38,
   "id": "17442625-dc77-4466-a2d3-10b1e13efe1c",
   "metadata": {},
   "outputs": [
    {
     "data": {
      "text/plain": [
       "count    6706.000000\n",
       "mean       12.325529\n",
       "std        29.669757\n",
       "min         0.000000\n",
       "25%         0.000000\n",
       "50%         0.000000\n",
       "75%        20.000000\n",
       "max       741.000000\n",
       "Name: approved_min_purchase, dtype: float64"
      ]
     },
     "execution_count": 38,
     "metadata": {},
     "output_type": "execute_result"
    }
   ],
   "source": [
    "train_data[train_data['is_late'] == 1]['approved_min_purchase'].describe()"
   ]
  },
  {
   "cell_type": "code",
   "execution_count": 39,
   "id": "31e30532-3f56-4a8d-8f87-1977587f8b5a",
   "metadata": {},
   "outputs": [
    {
     "data": {
      "text/plain": [
       "0         0.0\n",
       "1         2.0\n",
       "2        20.0\n",
       "3         0.0\n",
       "4        66.0\n",
       "         ... \n",
       "38274     0.0\n",
       "38275     0.0\n",
       "38276    13.0\n",
       "38277    19.0\n",
       "38278     0.0\n",
       "Name: approved_min_purchase, Length: 38094, dtype: float64"
      ]
     },
     "execution_count": 39,
     "metadata": {},
     "output_type": "execute_result"
    }
   ],
   "source": [
    "test_data['approved_min_purchase'] = ((test_data['order_approved_at'] - test_data['order_purchase_timestamp']).astype('timedelta64[s]') / pd.Timedelta(hours=1)).astype(int)\n",
    "test_data['approved_min_purchase'].astype(float)\n"
   ]
  },
  {
   "cell_type": "code",
   "execution_count": 40,
   "id": "6fb3c637-7dd1-4657-81c3-312dc9a1adbf",
   "metadata": {},
   "outputs": [],
   "source": [
    "sectil = train_data['approved_min_purchase'].quantile([0.25]).values[0]\n",
    "thirtil = train_data['approved_min_purchase'].quantile([0.75]).values[0]\n",
    "train_data['apmpu_category'] = train_data['approved_min_purchase'].apply(lambda x:'slow' if x>=thirtil else ('fast' if x>=sectil and x<thirtil else 'fast'))\n",
    "test_data['apmpu_category'] = test_data['approved_min_purchase'].apply(lambda x:'slow' if x>=thirtil else ('fast' if x>=sectil and x<thirtil else 'fast'))\n",
    "\n"
   ]
  },
  {
   "cell_type": "code",
   "execution_count": 41,
   "id": "019bd093-2348-415a-bd7b-2ff504b0d26e",
   "metadata": {},
   "outputs": [],
   "source": [
    "apmpu_late = train_data[train_data.is_late == 1]['apmpu_category'].value_counts().rename_axis('apmpu_category').reset_index(name='late_counts')\n",
    "apmpu_all = train_data['apmpu_category'].value_counts().rename_axis('apmpu_category').reset_index(name='all_counts')\n",
    "apmpu_late['all_count'] = apmpu_late.apmpu_category.map(apmpu_all.set_index('apmpu_category')['all_counts'])\n",
    "apmpu_late['late_prop'] = apmpu_late['late_counts'] / apmpu_late['all_count']\n",
    "apmpu_list = apmpu_late['apmpu_category'].to_list()\n"
   ]
  },
  {
   "cell_type": "code",
   "execution_count": 42,
   "id": "4334abed-d2f7-417b-9000-e09977c1e342",
   "metadata": {},
   "outputs": [],
   "source": [
    "def propApmpuLate(data):\n",
    "    if(data in apmpu_list):\n",
    "        return apmpu_late[apmpu_late.apmpu_category == data]['late_prop'].values[0]\n",
    "    else:\n",
    "        return 0\n",
    "\n",
    "train_data['apmpu_late_prop'] = train_data['apmpu_category'].apply(propApmpuLate)\n",
    "test_data['apmpu_late_prop'] = test_data['apmpu_category'].apply(propApmpuLate)\n",
    "\n"
   ]
  },
  {
   "cell_type": "code",
   "execution_count": 43,
   "id": "255639f4-98f5-4ab1-ad78-11b785be57ce",
   "metadata": {},
   "outputs": [],
   "source": [
    "sectil = train_data['price'].quantile([0.25]).values[0]\n",
    "thirtil = train_data['price'].quantile([0.75]).values[0]\n",
    "train_data['price_category'] = train_data['price'].apply(lambda x:'expensive' if x>=thirtil else ('affordable' if x>=sectil and x<thirtil else 'cheap'))"
   ]
  },
  {
   "cell_type": "code",
   "execution_count": 44,
   "id": "e4af95ee-899f-42a5-bb71-664f4326930a",
   "metadata": {},
   "outputs": [],
   "source": [
    "price_late = train_data[train_data.is_late == 1]['price_category'].value_counts().rename_axis('price_category').reset_index(name='late_counts')\n",
    "price_all = train_data['price_category'].value_counts().rename_axis('price_category').reset_index(name='all_counts')\n",
    "price_late['all_count'] = price_late.price_category.map(price_all.set_index('price_category')['all_counts'])\n",
    "price_late['late_prop'] =price_late['late_counts'] / price_late['all_count']\n",
    "price_list =price_late['price_category'].to_list()\n"
   ]
  },
  {
   "cell_type": "code",
   "execution_count": 45,
   "id": "87105bb6-eece-49a5-9e2f-7e2e8bed2c0b",
   "metadata": {},
   "outputs": [],
   "source": [
    "def priceLate(data):\n",
    "    if(data in price_list):\n",
    "        return price_late[price_late.price_category == data]['late_prop'].values[0]\n",
    "    else:\n",
    "        return 0\n",
    "\n",
    "train_data['price_late_prop'] = train_data['price_category'].apply(priceLate)\n"
   ]
  },
  {
   "cell_type": "code",
   "execution_count": 46,
   "id": "5c735e0a-4c61-4b06-9ec6-93afcf5557d7",
   "metadata": {},
   "outputs": [],
   "source": [
    "test_data['price_category'] = test_data['price'].apply(lambda x:'expensive' if x>=thirtil else ('affordable' if x>=sectil and x<thirtil else 'cheap'))\n"
   ]
  },
  {
   "cell_type": "code",
   "execution_count": 47,
   "id": "19922564-346e-4c36-9804-560ca636d231",
   "metadata": {},
   "outputs": [],
   "source": [
    "test_data['price_late_prop'] = test_data['price_category'].apply(priceLate)\n"
   ]
  },
  {
   "cell_type": "code",
   "execution_count": 48,
   "id": "4af88db3-ff1f-4219-a7db-53906912378d",
   "metadata": {},
   "outputs": [],
   "source": [
    "install_late = train_data[train_data.is_late == 1]['payment_installments'].value_counts().rename_axis('payment_installments').reset_index(name='late_counts')\n",
    "install_all = train_data['payment_installments'].value_counts().rename_axis('payment_installments').reset_index(name='all_counts')\n",
    "install_late['all_count'] = install_late.payment_installments.map(install_all.set_index('payment_installments')['all_counts'])\n",
    "install_late['late_prop'] =install_late['late_counts'] / install_late['all_count']\n",
    "install_list =install_late['payment_installments'].to_list()\n",
    "install_late['install'] = install_late['payment_installments'].map({1: '1', 2: '2', 3: '3', 4:'4', 5:'5', 6:'6', 7:'7', 8:'8',9:'9',10:'10',11:'11',12:'12',13:'13',14:'14',15:'15',16:'16',17:'17',18:'18',19:'19',20:'20',21:'21',22:'22',23:'23',24:'24'})\n"
   ]
  },
  {
   "cell_type": "code",
   "execution_count": 49,
   "id": "41dfeb52-ac6a-4d6b-9ff4-1f63454558b3",
   "metadata": {},
   "outputs": [],
   "source": [
    "def installLate(data):\n",
    "    if(data in install_list):\n",
    "        return install_late[install_late.payment_installments == data]['late_prop'].values[0]\n",
    "    else:\n",
    "        return 0\n",
    "\n",
    "train_data['install_late_prop'] = train_data['payment_installments'].apply(installLate)\n"
   ]
  },
  {
   "cell_type": "code",
   "execution_count": 50,
   "id": "88a02b90-2b75-4481-ac78-60ea0ba3aa76",
   "metadata": {},
   "outputs": [],
   "source": [
    "test_data['install_late_prop'] = test_data['payment_installments'].apply(installLate)\n"
   ]
  },
  {
   "cell_type": "code",
   "execution_count": 51,
   "id": "a1cd6be0-a869-4601-b4e1-2724ce41a3dc",
   "metadata": {},
   "outputs": [],
   "source": [
    "pt_late = train_data[train_data.is_late == 1]['payment_type'].value_counts().rename_axis('payment_type').reset_index(name='late_counts')\n",
    "pt_all = train_data['payment_type'].value_counts().rename_axis('payment_type').reset_index(name='all_counts')\n",
    "pt_late['all_count'] = pt_late.payment_type.map(pt_all.set_index('payment_type')['all_counts'])\n",
    "pt_late['late_prop'] =pt_late['late_counts'] / pt_late['all_count']\n",
    "pt_list =pt_late['payment_type'].to_list()\n"
   ]
  },
  {
   "cell_type": "code",
   "execution_count": 52,
   "id": "c87b17cf-af7a-47a7-8c38-0addeb3f085c",
   "metadata": {},
   "outputs": [],
   "source": [
    "def ptLate(data):\n",
    "    if(data in pt_list):\n",
    "        return pt_late[pt_late.payment_type == data]['late_prop'].values[0]\n",
    "    else:\n",
    "        return 0\n",
    "\n",
    "train_data['pt_late_prop'] = train_data['payment_type'].apply(ptLate)\n"
   ]
  },
  {
   "cell_type": "code",
   "execution_count": 53,
   "id": "4696cff4-379f-4a42-91d5-4be7d50a5451",
   "metadata": {},
   "outputs": [],
   "source": [
    "test_data['pt_late_prop'] = test_data['payment_type'].apply(ptLate)\n"
   ]
  },
  {
   "cell_type": "code",
   "execution_count": 54,
   "id": "d6de34d3-4467-4e5f-80de-0b4567bdaf09",
   "metadata": {},
   "outputs": [],
   "source": [
    "sectil = train_data['product_weight_g'].quantile([0.25]).values[0]\n",
    "thirtil = train_data['product_weight_g'].quantile([0.75]).values[0]\n",
    "train_data['weight_category'] = train_data['product_weight_g'].apply(lambda x:'heavy' if x>=thirtil else ('medium' if x>=sectil and x<thirtil else 'light'))\n"
   ]
  },
  {
   "cell_type": "code",
   "execution_count": 55,
   "id": "27cfb91f-46bf-4133-87c6-028cf2c168b5",
   "metadata": {},
   "outputs": [],
   "source": [
    "test_data['weight_category'] = test_data['product_weight_g'].apply(lambda x:'heavy' if x>=thirtil else ('medium' if x>=sectil and x<thirtil else 'light'))\n"
   ]
  },
  {
   "cell_type": "code",
   "execution_count": 56,
   "id": "1efac9c8-189d-4226-8ca8-ced29773ef8e",
   "metadata": {},
   "outputs": [],
   "source": [
    "pw_late = train_data[train_data.is_late == 1]['weight_category'].value_counts().rename_axis('weight_category').reset_index(name='late_counts')\n",
    "pw_all = train_data['weight_category'].value_counts().rename_axis('weight_category').reset_index(name='all_counts')\n",
    "pw_late['all_count'] = pw_late.weight_category.map(pw_all.set_index('weight_category')['all_counts'])\n",
    "pw_late['late_prop'] =pw_late['late_counts'] / pw_late['all_count']\n",
    "pw_list =pw_late['weight_category'].to_list()\n"
   ]
  },
  {
   "cell_type": "code",
   "execution_count": 57,
   "id": "99b1ff34-1eb6-4646-bc9a-d0d726ad065b",
   "metadata": {},
   "outputs": [],
   "source": [
    "def pwLate(data):\n",
    "    if(data in pw_list):\n",
    "        return pw_late[pw_late.weight_category == data]['late_prop'].values[0]\n",
    "    else:\n",
    "        return 0\n",
    "\n",
    "train_data['pw_late_prop'] = train_data['weight_category'].apply(pwLate)\n"
   ]
  },
  {
   "cell_type": "code",
   "execution_count": 58,
   "id": "74d28c13-b128-4e81-9eee-361fb42b04ad",
   "metadata": {},
   "outputs": [],
   "source": [
    "test_data['pw_late_prop'] = test_data['weight_category'].apply(pwLate)\n"
   ]
  },
  {
   "cell_type": "code",
   "execution_count": 59,
   "id": "81686d1a-0b8a-48ca-b524-ad037bc6944d",
   "metadata": {},
   "outputs": [
    {
     "data": {
      "text/plain": [
       "count    87109.000000\n",
       "mean        44.212876\n",
       "std         37.582343\n",
       "min          0.000000\n",
       "25%         20.020000\n",
       "50%         35.010000\n",
       "75%         57.140000\n",
       "max        409.680000\n",
       "Name: shipping_charges, dtype: float64"
      ]
     },
     "execution_count": 59,
     "metadata": {},
     "output_type": "execute_result"
    }
   ],
   "source": [
    "train_data['shipping_charges'].describe()"
   ]
  },
  {
   "cell_type": "code",
   "execution_count": 60,
   "id": "1f560acf-c2e9-4331-9e0c-c95578cf19a9",
   "metadata": {},
   "outputs": [],
   "source": [
    "sectil = train_data['shipping_charges'].quantile([0.25]).values[0]\n",
    "thirtil = train_data['shipping_charges'].quantile([0.75]).values[0]\n",
    "train_data['freight_category'] = train_data['shipping_charges'].apply(lambda x:'expensive' if x>=thirtil else ('medium' if x>=sectil and x<thirtil else 'cheap'))\n"
   ]
  },
  {
   "cell_type": "code",
   "execution_count": 61,
   "id": "93ce1bfa-0e8e-43a0-9bfc-50dec1b357d6",
   "metadata": {},
   "outputs": [],
   "source": [
    "test_data['freight_category'] = test_data['shipping_charges'].apply(lambda x:'expensive' if x>=thirtil else ('medium' if x>=sectil and x<thirtil else 'cheap'))\n"
   ]
  },
  {
   "cell_type": "code",
   "execution_count": 62,
   "id": "8f94515d-10b6-452c-8f85-279b1cd8ca84",
   "metadata": {},
   "outputs": [],
   "source": [
    "sc_late = train_data[train_data.is_late == 1]['freight_category'].value_counts().rename_axis('freight_category').reset_index(name='late_counts')\n",
    "sc_all = train_data['freight_category'].value_counts().rename_axis('freight_category').reset_index(name='all_counts')\n",
    "sc_late['all_count'] = sc_late.freight_category.map(sc_all.set_index('freight_category')['all_counts'])\n",
    "sc_late['late_prop'] =sc_late['late_counts'] / sc_late['all_count']\n",
    "sc_list =sc_late['freight_category'].to_list()\n"
   ]
  },
  {
   "cell_type": "code",
   "execution_count": 63,
   "id": "514a3703-313e-439f-87ad-05b9bdefda7d",
   "metadata": {},
   "outputs": [],
   "source": [
    "def scLate(data):\n",
    "    if(data in sc_list):\n",
    "        return sc_late[sc_late.freight_category == data]['late_prop'].values[0]\n",
    "    else:\n",
    "        return 0\n",
    "\n",
    "train_data['sc_late_prop'] = train_data['freight_category'].apply(scLate)\n"
   ]
  },
  {
   "cell_type": "code",
   "execution_count": 64,
   "id": "ff3563d4-16c1-4ceb-b923-8fc9d275471d",
   "metadata": {},
   "outputs": [],
   "source": [
    "test_data['sc_late_prop'] = test_data['freight_category'].apply(scLate)\n"
   ]
  },
  {
   "cell_type": "code",
   "execution_count": 65,
   "id": "89a93e36-0339-4bd8-bc7e-a8da635542b0",
   "metadata": {},
   "outputs": [],
   "source": [
    "ps_late = train_data[train_data.is_late == 1]['payment_sequential'].value_counts().rename_axis('payment_sequential').reset_index(name='late_counts')\n",
    "ps_all = train_data['payment_sequential'].value_counts().rename_axis('payment_sequential').reset_index(name='all_counts')\n",
    "ps_late['all_count'] = ps_late.payment_sequential.map(ps_all.set_index('payment_sequential')['all_counts'])\n",
    "ps_late['late_prop'] =ps_late['late_counts'] / ps_late['all_count']\n",
    "ps_list =ps_late['payment_sequential'].to_list()\n",
    "# ps_list['seq'] = ps_list['payment_sequential'].map({1: '1', 2: '2', 3: '3', 4:'4', 5:'5', 6:'6', 7:'7', 8:'8',9:'9',10:'10',11:'11',12:'12',13:'13',14:'14',15:'15',16:'16',17:'17',18:'18',19:'19',20:'20',21:'21',22:'22',23:'23',24:'24'})\n"
   ]
  },
  {
   "cell_type": "code",
   "execution_count": 66,
   "id": "2482edc0-511d-4736-a135-418ce9264755",
   "metadata": {},
   "outputs": [],
   "source": [
    "def psLate(data):\n",
    "    if(data in ps_list):\n",
    "        return ps_late[ps_late.payment_sequential == data]['late_prop'].values[0]\n",
    "    else:\n",
    "        return 0\n",
    "\n",
    "train_data['ps_late_prop'] = train_data['payment_sequential'].apply(psLate)\n"
   ]
  },
  {
   "cell_type": "code",
   "execution_count": 67,
   "id": "9d58514e-ae01-4058-b8cc-a6e0b767c1aa",
   "metadata": {},
   "outputs": [],
   "source": [
    "test_data['ps_late_prop'] = test_data['payment_sequential'].apply(psLate)\n"
   ]
  },
  {
   "cell_type": "code",
   "execution_count": 68,
   "id": "50f0d1ef-5d21-4b76-917e-32621d316805",
   "metadata": {},
   "outputs": [],
   "source": [
    "zip_late = train_data[train_data.is_late == 1]['customer_zip_code_prefix'].value_counts().rename_axis('zip_code_prefix').reset_index(name='late_counts')\n"
   ]
  },
  {
   "cell_type": "code",
   "execution_count": 69,
   "id": "38ba84bc-a8f4-4128-bdf5-1619008702aa",
   "metadata": {},
   "outputs": [],
   "source": [
    "sectil = zip_late['late_counts'].quantile([0.25]).values[0]\n",
    "thirtil = zip_late['late_counts'].quantile([0.75]).values[0]\n",
    "\n",
    "zip_late['dist_late'] = zip_late['late_counts'].apply(lambda x:'sering' if x>=thirtil else ('lumayan' if x>=sectil and x<thirtil else 'jarang'))\n"
   ]
  },
  {
   "cell_type": "code",
   "execution_count": 70,
   "id": "30445c12-2e16-4004-91fe-bef967c28fd7",
   "metadata": {},
   "outputs": [],
   "source": [
    "zip_all = train_data['customer_zip_code_prefix'].value_counts().rename_axis('zip_code_prefix').reset_index(name='all_counts')\n",
    "zip_late['all_count'] = zip_late.zip_code_prefix.map(zip_all.set_index('zip_code_prefix')['all_counts'])\n"
   ]
  },
  {
   "cell_type": "code",
   "execution_count": 71,
   "id": "90407510-5f58-4728-b663-d78ce1425013",
   "metadata": {},
   "outputs": [],
   "source": [
    "zip_late['late_prop'] = zip_late['late_counts'] / zip_late['all_count']\n",
    "zip_late['zip_code_prefix'] = zip_late['zip_code_prefix'].astype('category')\n"
   ]
  },
  {
   "cell_type": "code",
   "execution_count": 72,
   "id": "faefc684-2137-4050-a00a-1af519d5262d",
   "metadata": {},
   "outputs": [],
   "source": [
    "zip_list = zip_late['zip_code_prefix'].to_list()\n",
    "\n",
    "def propZipLate(data):\n",
    "    if(data in zip_list):\n",
    "        return zip_late[zip_late.zip_code_prefix == data]['late_prop'].values[0]\n",
    "    else:\n",
    "        return 0\n",
    "\n",
    "train_data['zip_late_prop'] = train_data['customer_zip_code_prefix'].apply(propZipLate)\n"
   ]
  },
  {
   "cell_type": "code",
   "execution_count": 73,
   "id": "236b4569-7a2b-41ba-9022-a325cf8ee474",
   "metadata": {},
   "outputs": [],
   "source": [
    "test_data['zip_late_prop'] = test_data['customer_zip_code_prefix'].apply(propZipLate)\n"
   ]
  },
  {
   "cell_type": "code",
   "execution_count": 74,
   "id": "a563e6ad-cad0-4482-ab96-4a61a177e8cc",
   "metadata": {},
   "outputs": [],
   "source": [
    "def countZipLate(data):\n",
    "    if(data in zip_list):\n",
    "        return zip_late[zip_late.zip_code_prefix == data]['late_counts'].values[0]\n",
    "    else:\n",
    "        return 0\n",
    "\n",
    "train_data['zip_late_count'] = train_data['customer_zip_code_prefix'].apply(countZipLate)\n"
   ]
  },
  {
   "cell_type": "code",
   "execution_count": 75,
   "id": "5768ac2e-bc4a-4705-be29-d58f171d8e6d",
   "metadata": {},
   "outputs": [],
   "source": [
    "test_data['zip_late_count'] = test_data['customer_zip_code_prefix'].apply(countZipLate)\n"
   ]
  },
  {
   "cell_type": "code",
   "execution_count": 76,
   "id": "749ff49f-a14b-4d76-8da5-f41b3b795de6",
   "metadata": {},
   "outputs": [],
   "source": [
    "sering = zip_late[zip_late.dist_late == 'sering']['zip_code_prefix'].to_list()\n",
    "lumayan = zip_late[zip_late.dist_late == 'lumayan']['zip_code_prefix'].to_list()\n",
    "jarang = zip_late[zip_late.dist_late == 'jarang']['zip_code_prefix'].to_list()"
   ]
  },
  {
   "cell_type": "code",
   "execution_count": 77,
   "id": "8eeaf355-9ba1-47a5-aa24-3cc9f0f6616a",
   "metadata": {},
   "outputs": [],
   "source": [
    "def zipLate(data):\n",
    "    if(data in sering):\n",
    "        return 'sering'\n",
    "    elif(data in lumayan):\n",
    "        return 'lumayan'\n",
    "    elif(data in jarang):\n",
    "        return 'jarang'\n",
    "    else:\n",
    "        return 'never'\n",
    "\n",
    "train_data['zip_late_freq'] = train_data['customer_zip_code_prefix'].apply(zipLate)\n"
   ]
  },
  {
   "cell_type": "code",
   "execution_count": 78,
   "id": "54dda7a0-b1b1-4c87-99c7-824886a3c32e",
   "metadata": {},
   "outputs": [],
   "source": [
    "test_data['zip_late_freq'] = test_data['customer_zip_code_prefix'].apply(zipLate)\n"
   ]
  },
  {
   "cell_type": "code",
   "execution_count": 79,
   "id": "0677f3f3-1138-4b03-b3eb-6f49a2c7827a",
   "metadata": {},
   "outputs": [],
   "source": [
    "def hasLate(data):\n",
    "    if(data == 'never'):\n",
    "        return 0\n",
    "    else:\n",
    "        return 1\n",
    "train_data['zip_ever_late'] = train_data['zip_late_freq'].apply(hasLate)\n"
   ]
  },
  {
   "cell_type": "code",
   "execution_count": 80,
   "id": "761562a6-2405-4dea-98b1-155b77c20c94",
   "metadata": {},
   "outputs": [],
   "source": [
    "test_data['zip_ever_late'] = test_data['zip_late_freq'].apply(hasLate)\n"
   ]
  },
  {
   "cell_type": "code",
   "execution_count": 81,
   "id": "17322018-fce1-4a80-a8cc-3044067eb555",
   "metadata": {},
   "outputs": [],
   "source": [
    "city_late = train_data[train_data.is_late == 1]['customer_city'].value_counts().rename_axis('customer_city').reset_index(name='late_counts')\n"
   ]
  },
  {
   "cell_type": "code",
   "execution_count": 82,
   "id": "2b4731a5-b9fa-4de8-99e6-6e85422554e0",
   "metadata": {},
   "outputs": [],
   "source": [
    "city_all = train_data['customer_city'].value_counts().rename_axis('customer_city').reset_index(name='all_counts')\n",
    "city_late['all_count'] = city_late.customer_city.map(city_all.set_index('customer_city')['all_counts'])\n",
    "city_late['late_prop'] = city_late['late_counts'] / city_late['all_count']\n"
   ]
  },
  {
   "cell_type": "code",
   "execution_count": 83,
   "id": "ee5222d3-1d08-4150-bf57-d088cc76da6a",
   "metadata": {},
   "outputs": [],
   "source": [
    "sectil = city_late['late_counts'].quantile([0.25]).values[0]\n",
    "thirtil = city_late['late_counts'].quantile([0.75]).values[0]\n",
    "city_late['dist_late'] = city_late['late_counts'].apply(lambda x:'sering' if x>=thirtil else ('lumayan' if x>=sectil and x<thirtil else 'jarang'))\n",
    "\n"
   ]
  },
  {
   "cell_type": "code",
   "execution_count": 84,
   "id": "178d9d6d-945f-4c56-bf35-d584bbd66d00",
   "metadata": {},
   "outputs": [],
   "source": [
    "city_list = city_late['customer_city'].to_list()\n",
    "\n",
    "def propCityLate(data):\n",
    "    if(data in city_list):\n",
    "        return city_late[city_late.customer_city == data]['late_prop'].values[0]\n",
    "    else:\n",
    "        return 0\n",
    "\n",
    "train_data['city_late_prop'] = train_data['customer_city'].apply(propCityLate)\n"
   ]
  },
  {
   "cell_type": "code",
   "execution_count": 85,
   "id": "4a6ecece-a76b-405a-a3fc-01ee17d99ca6",
   "metadata": {},
   "outputs": [],
   "source": [
    "test_data['city_late_prop'] = test_data['customer_city'].apply(propCityLate)\n"
   ]
  },
  {
   "cell_type": "code",
   "execution_count": 86,
   "id": "5a86b3df-2e1f-48e9-a123-75d52b9db3b3",
   "metadata": {},
   "outputs": [],
   "source": [
    "def countCityLate(data):\n",
    "    if(data in city_list):\n",
    "        return city_late[city_late.customer_city == data]['late_counts'].values[0]\n",
    "    else:\n",
    "        return 0\n",
    "\n",
    "train_data['city_late_count'] = train_data['customer_city'].apply(countCityLate)\n"
   ]
  },
  {
   "cell_type": "code",
   "execution_count": 87,
   "id": "ccc45232-4f75-41ac-a5f8-0998dae95b3e",
   "metadata": {},
   "outputs": [],
   "source": [
    "test_data['city_late_count'] = test_data['customer_city'].apply(countCityLate)\n"
   ]
  },
  {
   "cell_type": "code",
   "execution_count": 88,
   "id": "fd928706-6130-423b-9808-fd7509ca5f0e",
   "metadata": {},
   "outputs": [],
   "source": [
    "c_sering = city_late[city_late.dist_late == 'sering']['customer_city'].to_list()\n",
    "c_lumayan = city_late[city_late.dist_late == 'lumayan']['customer_city'].to_list()\n",
    "c_jarang = city_late[city_late.dist_late == 'jarang']['customer_city'].to_list()\n",
    "\n",
    "def cityLate(data):\n",
    "    if(data in c_sering):\n",
    "        return 'sering'\n",
    "    elif(data in c_lumayan):\n",
    "        return 'lumayan'\n",
    "    elif(data in c_jarang):\n",
    "        return 'jarang'\n",
    "    else:\n",
    "        return 'never'\n",
    "\n",
    "train_data['city_late_freq'] = train_data['customer_city'].apply(cityLate)\n"
   ]
  },
  {
   "cell_type": "code",
   "execution_count": 89,
   "id": "62592854-0658-42ca-9bf1-be4823f58b28",
   "metadata": {},
   "outputs": [],
   "source": [
    "test_data['city_late_freq'] = test_data['customer_city'].apply(cityLate)\n"
   ]
  },
  {
   "cell_type": "code",
   "execution_count": 90,
   "id": "26933c7a-51d5-490c-aef6-d03c8f24134d",
   "metadata": {},
   "outputs": [],
   "source": [
    "train_data['city_ever_late'] = train_data['city_late_freq'].apply(hasLate)\n"
   ]
  },
  {
   "cell_type": "code",
   "execution_count": 91,
   "id": "d84cb1d0-f16a-436c-aa6e-51094ebe2f80",
   "metadata": {},
   "outputs": [],
   "source": [
    "test_data['city_ever_late'] = test_data['city_late_freq'].apply(hasLate)\n"
   ]
  },
  {
   "cell_type": "code",
   "execution_count": 92,
   "id": "6039dc0e-c334-462d-9711-b7881eb0cb76",
   "metadata": {},
   "outputs": [],
   "source": [
    "state_late = train_data[train_data.is_late == 1]['customer_state'].value_counts().rename_axis('customer_state').reset_index(name='late_counts')\n"
   ]
  },
  {
   "cell_type": "code",
   "execution_count": 93,
   "id": "287f1e33-007e-4efa-8385-55b8161c373f",
   "metadata": {},
   "outputs": [],
   "source": [
    "state_late = train_data[train_data.is_late == 1]['customer_state'].value_counts().rename_axis('customer_state').reset_index(name='late_counts')\n"
   ]
  },
  {
   "cell_type": "code",
   "execution_count": 94,
   "id": "d2362077-2c0d-467f-9398-24490829f508",
   "metadata": {},
   "outputs": [],
   "source": [
    "state_all = train_data['customer_state'].value_counts().rename_axis('customer_state').reset_index(name='all_counts')\n",
    "state_late['all_count'] = state_late.customer_state.map(state_all.set_index('customer_state')['all_counts'])\n",
    "state_late['late_prop'] = state_late['late_counts'] / state_late['all_count']\n"
   ]
  },
  {
   "cell_type": "code",
   "execution_count": 95,
   "id": "f1bba7f5-544a-4035-a9ad-be65ab144d2f",
   "metadata": {},
   "outputs": [],
   "source": [
    "sectil = state_late['late_counts'].quantile([0.25]).values[0]\n",
    "thirtil = state_late['late_counts'].quantile([0.75]).values[0]\n",
    "state_late['dist_late'] = state_late['late_counts'].apply(lambda x:'sering' if x>=thirtil else ('lumayan' if x>=sectil and x<thirtil else 'jarang'))\n"
   ]
  },
  {
   "cell_type": "code",
   "execution_count": 96,
   "id": "fdabf620-85e7-4be4-be45-eae1bb8b1755",
   "metadata": {},
   "outputs": [],
   "source": [
    "state_list = state_late['customer_state'].to_list()\n",
    "\n",
    "def propStateLate(data):\n",
    "    if(data in state_list):\n",
    "        return state_late[state_late.customer_state == data]['late_prop'].values[0]\n",
    "    else:\n",
    "        return 0\n",
    "\n",
    "train_data['state_late_prop'] = train_data['customer_state'].apply(propStateLate)\n"
   ]
  },
  {
   "cell_type": "code",
   "execution_count": 97,
   "id": "0cdab599-48d3-49c6-95da-d961ff7b0128",
   "metadata": {},
   "outputs": [],
   "source": [
    "test_data['state_late_prop'] = test_data['customer_state'].apply(propStateLate)\n"
   ]
  },
  {
   "cell_type": "code",
   "execution_count": 98,
   "id": "3a53ce72-8da2-4f19-98fb-dc22f5f15f10",
   "metadata": {},
   "outputs": [],
   "source": [
    "def countStateLate(data):\n",
    "    if(data in state_list):\n",
    "        return state_late[state_late.customer_state == data]['late_counts'].values[0]\n",
    "    else:\n",
    "        return 0\n",
    "\n",
    "train_data['state_late_count'] = train_data['customer_state'].apply(countStateLate)\n"
   ]
  },
  {
   "cell_type": "code",
   "execution_count": 99,
   "id": "ccc81da4-15dd-4ec8-a9bd-5649508e90a8",
   "metadata": {},
   "outputs": [],
   "source": [
    "test_data['state_late_count'] = test_data['customer_state'].apply(countStateLate)\n"
   ]
  },
  {
   "cell_type": "code",
   "execution_count": 100,
   "id": "f0ac9e48-21e0-40d3-b575-f89401c503fb",
   "metadata": {},
   "outputs": [],
   "source": [
    "s_sering = state_late[state_late.dist_late == 'sering']['customer_state'].to_list()\n",
    "s_lumayan = state_late[state_late.dist_late == 'lumayan']['customer_state'].to_list()\n",
    "s_jarang = state_late[state_late.dist_late == 'jarang']['customer_state'].to_list()\n",
    "\n",
    "def stateLate(data):\n",
    "    if(data in s_sering):\n",
    "        return 'sering'\n",
    "    elif(data in s_lumayan):\n",
    "        return 'lumayan'\n",
    "    elif(data in s_jarang):\n",
    "        return 'jarang'\n",
    "    else:\n",
    "        return 'never'\n",
    "\n",
    "train_data['state_late_freq'] = train_data['customer_state'].apply(stateLate)\n"
   ]
  },
  {
   "cell_type": "code",
   "execution_count": 101,
   "id": "787da635-fc3b-4321-a7b4-b438e52893eb",
   "metadata": {},
   "outputs": [],
   "source": [
    "test_data['state_late_freq'] = test_data['customer_state'].apply(stateLate)\n"
   ]
  },
  {
   "cell_type": "code",
   "execution_count": 102,
   "id": "6537e60f-1411-47fb-b844-3d36d7ad680c",
   "metadata": {},
   "outputs": [],
   "source": [
    "train_data['state_ever_late'] = train_data['state_late_freq'].apply(hasLate)\n"
   ]
  },
  {
   "cell_type": "code",
   "execution_count": 103,
   "id": "0d6b4c87-b034-48b4-a3d2-c667e8e8a645",
   "metadata": {},
   "outputs": [],
   "source": [
    "test_data['state_ever_late'] = test_data['state_late_freq'].apply(hasLate)\n"
   ]
  },
  {
   "cell_type": "code",
   "execution_count": 104,
   "id": "e48c3622-d914-4df3-be69-4c4b37430440",
   "metadata": {},
   "outputs": [
    {
     "data": {
      "text/html": [
       "<div>\n",
       "<style scoped>\n",
       "    .dataframe tbody tr th:only-of-type {\n",
       "        vertical-align: middle;\n",
       "    }\n",
       "\n",
       "    .dataframe tbody tr th {\n",
       "        vertical-align: top;\n",
       "    }\n",
       "\n",
       "    .dataframe thead th {\n",
       "        text-align: right;\n",
       "    }\n",
       "</style>\n",
       "<table border=\"1\" class=\"dataframe\">\n",
       "  <thead>\n",
       "    <tr style=\"text-align: right;\">\n",
       "      <th></th>\n",
       "      <th>order_id</th>\n",
       "      <th>customer_id</th>\n",
       "      <th>order_purchase_timestamp</th>\n",
       "      <th>order_approved_at</th>\n",
       "      <th>order_delivered_timestamp</th>\n",
       "      <th>order_estimated_delivery_date</th>\n",
       "      <th>customer_zip_code_prefix</th>\n",
       "      <th>customer_city</th>\n",
       "      <th>customer_state</th>\n",
       "      <th>product_id</th>\n",
       "      <th>seller_id</th>\n",
       "      <th>price</th>\n",
       "      <th>shipping_charges</th>\n",
       "      <th>payment_sequential</th>\n",
       "      <th>payment_type</th>\n",
       "      <th>payment_installments</th>\n",
       "      <th>payment_value</th>\n",
       "      <th>product_category_name</th>\n",
       "      <th>product_weight_g</th>\n",
       "      <th>product_length_cm</th>\n",
       "      <th>product_height_cm</th>\n",
       "      <th>product_width_cm</th>\n",
       "      <th>is_late</th>\n",
       "      <th>product_volume</th>\n",
       "      <th>volume_category</th>\n",
       "      <th>vol_late_prop</th>\n",
       "      <th>purchase_day_of_week</th>\n",
       "      <th>approved_day_of_week</th>\n",
       "      <th>pur_late_prop</th>\n",
       "      <th>app_late_prop</th>\n",
       "      <th>purchase_hour</th>\n",
       "      <th>approved_hour</th>\n",
       "      <th>purh_late_prop</th>\n",
       "      <th>apph_late_prop</th>\n",
       "      <th>approved_min_purchase</th>\n",
       "      <th>apmpu_category</th>\n",
       "      <th>apmpu_late_prop</th>\n",
       "      <th>price_category</th>\n",
       "      <th>price_late_prop</th>\n",
       "      <th>install_late_prop</th>\n",
       "      <th>pt_late_prop</th>\n",
       "      <th>weight_category</th>\n",
       "      <th>pw_late_prop</th>\n",
       "      <th>freight_category</th>\n",
       "      <th>sc_late_prop</th>\n",
       "      <th>ps_late_prop</th>\n",
       "      <th>zip_late_prop</th>\n",
       "      <th>zip_late_count</th>\n",
       "      <th>zip_late_freq</th>\n",
       "      <th>zip_ever_late</th>\n",
       "      <th>city_late_prop</th>\n",
       "      <th>city_late_count</th>\n",
       "      <th>city_late_freq</th>\n",
       "      <th>city_ever_late</th>\n",
       "      <th>state_late_prop</th>\n",
       "      <th>state_late_count</th>\n",
       "      <th>state_late_freq</th>\n",
       "      <th>state_ever_late</th>\n",
       "    </tr>\n",
       "  </thead>\n",
       "  <tbody>\n",
       "  </tbody>\n",
       "</table>\n",
       "</div>"
      ],
      "text/plain": [
       "Empty DataFrame\n",
       "Columns: [order_id, customer_id, order_purchase_timestamp, order_approved_at, order_delivered_timestamp, order_estimated_delivery_date, customer_zip_code_prefix, customer_city, customer_state, product_id, seller_id, price, shipping_charges, payment_sequential, payment_type, payment_installments, payment_value, product_category_name, product_weight_g, product_length_cm, product_height_cm, product_width_cm, is_late, product_volume, volume_category, vol_late_prop, purchase_day_of_week, approved_day_of_week, pur_late_prop, app_late_prop, purchase_hour, approved_hour, purh_late_prop, apph_late_prop, approved_min_purchase, apmpu_category, apmpu_late_prop, price_category, price_late_prop, install_late_prop, pt_late_prop, weight_category, pw_late_prop, freight_category, sc_late_prop, ps_late_prop, zip_late_prop, zip_late_count, zip_late_freq, zip_ever_late, city_late_prop, city_late_count, city_late_freq, city_ever_late, state_late_prop, state_late_count, state_late_freq, state_ever_late]\n",
       "Index: []"
      ]
     },
     "execution_count": 104,
     "metadata": {},
     "output_type": "execute_result"
    }
   ],
   "source": [
    "train_data[train_data['state_ever_late'] == 0]"
   ]
  },
  {
   "cell_type": "code",
   "execution_count": 105,
   "id": "db2c3992-3936-4632-a959-96b38b57cea3",
   "metadata": {},
   "outputs": [
    {
     "data": {
      "text/html": [
       "<div>\n",
       "<style scoped>\n",
       "    .dataframe tbody tr th:only-of-type {\n",
       "        vertical-align: middle;\n",
       "    }\n",
       "\n",
       "    .dataframe tbody tr th {\n",
       "        vertical-align: top;\n",
       "    }\n",
       "\n",
       "    .dataframe thead th {\n",
       "        text-align: right;\n",
       "    }\n",
       "</style>\n",
       "<table border=\"1\" class=\"dataframe\">\n",
       "  <thead>\n",
       "    <tr style=\"text-align: right;\">\n",
       "      <th></th>\n",
       "      <th>order_id</th>\n",
       "      <th>customer_id</th>\n",
       "      <th>order_purchase_timestamp</th>\n",
       "      <th>order_approved_at</th>\n",
       "      <th>customer_zip_code_prefix</th>\n",
       "      <th>customer_city</th>\n",
       "      <th>customer_state</th>\n",
       "      <th>product_id</th>\n",
       "      <th>seller_id</th>\n",
       "      <th>price</th>\n",
       "      <th>shipping_charges</th>\n",
       "      <th>payment_sequential</th>\n",
       "      <th>payment_type</th>\n",
       "      <th>payment_installments</th>\n",
       "      <th>payment_value</th>\n",
       "      <th>product_category_name</th>\n",
       "      <th>product_weight_g</th>\n",
       "      <th>product_length_cm</th>\n",
       "      <th>product_height_cm</th>\n",
       "      <th>product_width_cm</th>\n",
       "      <th>product_volume</th>\n",
       "      <th>volume_category</th>\n",
       "      <th>vol_late_prop</th>\n",
       "      <th>purchase_day_of_week</th>\n",
       "      <th>approved_day_of_week</th>\n",
       "      <th>pur_late_prop</th>\n",
       "      <th>app_late_prop</th>\n",
       "      <th>purchase_hour</th>\n",
       "      <th>approved_hour</th>\n",
       "      <th>purh_late_prop</th>\n",
       "      <th>apph_late_prop</th>\n",
       "      <th>approved_min_purchase</th>\n",
       "      <th>apmpu_category</th>\n",
       "      <th>apmpu_late_prop</th>\n",
       "      <th>price_category</th>\n",
       "      <th>price_late_prop</th>\n",
       "      <th>install_late_prop</th>\n",
       "      <th>pt_late_prop</th>\n",
       "      <th>weight_category</th>\n",
       "      <th>pw_late_prop</th>\n",
       "      <th>freight_category</th>\n",
       "      <th>sc_late_prop</th>\n",
       "      <th>ps_late_prop</th>\n",
       "      <th>zip_late_prop</th>\n",
       "      <th>zip_late_count</th>\n",
       "      <th>zip_late_freq</th>\n",
       "      <th>zip_ever_late</th>\n",
       "      <th>city_late_prop</th>\n",
       "      <th>city_late_count</th>\n",
       "      <th>city_late_freq</th>\n",
       "      <th>city_ever_late</th>\n",
       "      <th>state_late_prop</th>\n",
       "      <th>state_late_count</th>\n",
       "      <th>state_late_freq</th>\n",
       "      <th>state_ever_late</th>\n",
       "    </tr>\n",
       "  </thead>\n",
       "  <tbody>\n",
       "  </tbody>\n",
       "</table>\n",
       "</div>"
      ],
      "text/plain": [
       "Empty DataFrame\n",
       "Columns: [order_id, customer_id, order_purchase_timestamp, order_approved_at, customer_zip_code_prefix, customer_city, customer_state, product_id, seller_id, price, shipping_charges, payment_sequential, payment_type, payment_installments, payment_value, product_category_name, product_weight_g, product_length_cm, product_height_cm, product_width_cm, product_volume, volume_category, vol_late_prop, purchase_day_of_week, approved_day_of_week, pur_late_prop, app_late_prop, purchase_hour, approved_hour, purh_late_prop, apph_late_prop, approved_min_purchase, apmpu_category, apmpu_late_prop, price_category, price_late_prop, install_late_prop, pt_late_prop, weight_category, pw_late_prop, freight_category, sc_late_prop, ps_late_prop, zip_late_prop, zip_late_count, zip_late_freq, zip_ever_late, city_late_prop, city_late_count, city_late_freq, city_ever_late, state_late_prop, state_late_count, state_late_freq, state_ever_late]\n",
       "Index: []"
      ]
     },
     "execution_count": 105,
     "metadata": {},
     "output_type": "execute_result"
    }
   ],
   "source": [
    "test_data[test_data['state_ever_late'] == 0]"
   ]
  },
  {
   "cell_type": "code",
   "execution_count": 106,
   "id": "8458d458-a61b-4e15-9947-1d67513646c6",
   "metadata": {},
   "outputs": [],
   "source": [
    "# It turns out that all states are ever late, so just remove the ever late state feature\n",
    "train_data = train_data.drop(['state_ever_late'], axis=1)\n"
   ]
  },
  {
   "cell_type": "code",
   "execution_count": 107,
   "id": "f4485af5-1a05-450f-a2d9-793274aad893",
   "metadata": {},
   "outputs": [],
   "source": [
    "# It turns out that all states are ever late, so just remove the ever late state feature\n",
    "test_data = test_data.drop(['state_ever_late'], axis=1)\n"
   ]
  },
  {
   "cell_type": "code",
   "execution_count": 108,
   "id": "ad77cd87-1e7b-464f-a9a1-664a0e007ff0",
   "metadata": {},
   "outputs": [],
   "source": [
    "seller_late = train_data[train_data.is_late == 1]['seller_id'].value_counts().rename_axis('seller_id').reset_index(name='late_counts')\n"
   ]
  },
  {
   "cell_type": "code",
   "execution_count": 109,
   "id": "186a2b7e-f110-42fb-b1d0-c8e9e421a370",
   "metadata": {},
   "outputs": [],
   "source": [
    "seller_all = train_data['seller_id'].value_counts().rename_axis('seller_id').reset_index(name='all_counts')\n",
    "seller_late['all_count'] = seller_late.seller_id.map(seller_all.set_index('seller_id')['all_counts'])\n",
    "seller_late['late_prop'] = seller_late['late_counts'] / seller_late['all_count']\n"
   ]
  },
  {
   "cell_type": "code",
   "execution_count": 110,
   "id": "9c056eca-a831-4f8b-884f-0ddcd9933472",
   "metadata": {},
   "outputs": [],
   "source": [
    "sectil = seller_late['late_counts'].quantile([0.25]).values[0]\n",
    "thirtil = seller_late['late_counts'].quantile([0.75]).values[0]\n",
    "seller_late['dist_late'] = seller_late['late_counts'].apply(lambda x:'sering' if x>=thirtil else ('lumayan' if x>=sectil and x<thirtil else 'jarang'))\n",
    "\n"
   ]
  },
  {
   "cell_type": "code",
   "execution_count": 111,
   "id": "abf6d655-49c6-42d8-8155-9ecac67e744f",
   "metadata": {},
   "outputs": [],
   "source": [
    "seller_list = seller_late['seller_id'].to_list()\n",
    "\n",
    "def propSellerLate(data):\n",
    "    if(data in seller_list):\n",
    "        return seller_late[seller_late.seller_id == data]['late_prop'].values[0]\n",
    "    else:\n",
    "        return 0\n",
    "\n",
    "train_data['seller_late_prop'] = train_data['seller_id'].apply(propSellerLate)\n"
   ]
  },
  {
   "cell_type": "code",
   "execution_count": 112,
   "id": "86188fc8-215b-4042-9fac-490f6350cfcf",
   "metadata": {},
   "outputs": [],
   "source": [
    "test_data['seller_late_prop'] = test_data['seller_id'].apply(propSellerLate)\n"
   ]
  },
  {
   "cell_type": "code",
   "execution_count": 113,
   "id": "fa33447a-674e-468f-b53e-2f5746a9af78",
   "metadata": {},
   "outputs": [],
   "source": [
    "def countSellerLate(data):\n",
    "    if(data in seller_list):\n",
    "        return seller_late[seller_late.seller_id == data]['late_counts'].values[0]\n",
    "    else:\n",
    "        return 0\n",
    "\n",
    "train_data['seller_late_count'] = train_data['seller_id'].apply(countSellerLate)\n"
   ]
  },
  {
   "cell_type": "code",
   "execution_count": 114,
   "id": "d86dab41-84a4-4e99-961f-8e12854be756",
   "metadata": {},
   "outputs": [],
   "source": [
    "test_data['seller_late_count'] = test_data['seller_id'].apply(countSellerLate)\n"
   ]
  },
  {
   "cell_type": "code",
   "execution_count": 115,
   "id": "7c17f347-80e1-407c-b2f4-c4c0d25ac0ee",
   "metadata": {},
   "outputs": [],
   "source": [
    "sel_sering = seller_late[seller_late.dist_late == 'sering']['seller_id'].to_list()\n",
    "sel_lumayan = seller_late[seller_late.dist_late == 'lumayan']['seller_id'].to_list()\n",
    "sel_jarang = seller_late[seller_late.dist_late == 'jarang']['seller_id'].to_list()\n",
    "\n",
    "def sellerLate(data):\n",
    "    if(data in sel_sering):\n",
    "        return 'sering'\n",
    "    elif(data in sel_lumayan):\n",
    "        return 'lumayan'\n",
    "    elif(data in sel_jarang):\n",
    "        return 'jarang'\n",
    "    else:\n",
    "        return 'never'\n",
    "\n",
    "train_data['seller_late_freq'] = train_data['seller_id'].apply(sellerLate)\n"
   ]
  },
  {
   "cell_type": "code",
   "execution_count": 116,
   "id": "e20d01ab-7e6b-4cd9-9c06-b169cf0ec55c",
   "metadata": {},
   "outputs": [],
   "source": [
    "test_data['seller_late_freq'] = test_data['seller_id'].apply(sellerLate)\n"
   ]
  },
  {
   "cell_type": "code",
   "execution_count": 117,
   "id": "b300fc51-3a29-43eb-ba5b-9d2be5605ee4",
   "metadata": {},
   "outputs": [],
   "source": [
    "prod_late = train_data[train_data.is_late == 1]['product_id'].value_counts().rename_axis('product_id').reset_index(name='late_counts')\n"
   ]
  },
  {
   "cell_type": "code",
   "execution_count": 129,
   "id": "d849c4aa-67ce-4ae5-88d9-cc2c1dbaabbd",
   "metadata": {},
   "outputs": [],
   "source": [
    "prod_all = train_data['product_id'].value_counts().rename_axis('product_id').reset_index(name='all_counts')\n",
    "prod_late['all_count'] = prod_late.product_id.map(prod_all.set_index('product_id')['all_counts'])\n",
    "prod_late['late_prop'] = prod_late['late_counts'] / prod_late['all_count']\n"
   ]
  },
  {
   "cell_type": "code",
   "execution_count": 130,
   "id": "9a4a82d9-5d6f-429b-9339-4a1de0cd63b9",
   "metadata": {},
   "outputs": [],
   "source": [
    "sectil = prod_late['late_counts'].quantile([0.25]).values[0]\n",
    "thirtil = prod_late['late_counts'].quantile([0.75]).values[0]\n",
    "prod_late['dist_late'] = prod_late['late_counts'].apply(lambda x:'sering' if x>=thirtil else ('lumayan' if x>=sectil and x<thirtil else 'jarang'))\n",
    "\n"
   ]
  },
  {
   "cell_type": "code",
   "execution_count": 131,
   "id": "121016e1-c89a-49db-9b85-42bdc47d4ff6",
   "metadata": {},
   "outputs": [
    {
     "name": "stdout",
     "output_type": "stream",
     "text": [
      "     product_id  late_counts  all_count dist_late  late_prop\n",
      "0  9NwzO0Pm0fDM           48        383    sering   0.125326\n",
      "1  SLTlrWtcYt1m           34        319    sering   0.106583\n",
      "2  8IhgV2nH9kXE           30        106    sering   0.283019\n",
      "3  ssZQDTdv1ISb           29        150    sering   0.193333\n",
      "4  UgkSjxoiV9Ev           29        378    sering   0.076720\n"
     ]
    }
   ],
   "source": [
    "print(prod_late.head())  # This will show the first few rows along with column names\n"
   ]
  },
  {
   "cell_type": "code",
   "execution_count": 132,
   "id": "6eeb14d2-6b6b-4d5b-a5a2-463b1a010eda",
   "metadata": {},
   "outputs": [],
   "source": [
    "prod_list = prod_late['product_id'].to_list()\n",
    "\n",
    "def propProductLate(data):\n",
    "    if(data in prod_list):\n",
    "        return prod_late[prod_late.product_id == data]['late_prop'].values[0]\n",
    "    else:\n",
    "        return 0\n",
    "train_data['product_late_prop'] = train_data['product_id'].apply(propProductLate)\n"
   ]
  },
  {
   "cell_type": "code",
   "execution_count": 133,
   "id": "c9d927a4-8407-494e-a20e-350fd3b062bf",
   "metadata": {},
   "outputs": [],
   "source": [
    "test_data['product_late_prop'] = test_data['product_id'].apply(propProductLate)\n"
   ]
  },
  {
   "cell_type": "code",
   "execution_count": 134,
   "id": "1f5b112f-faf0-435c-810a-f2e776585c5a",
   "metadata": {},
   "outputs": [],
   "source": [
    "def countProductLate(data):\n",
    "    if(data in prod_list):\n",
    "        return prod_late[prod_late.product_id == data]['late_counts'].values[0]\n",
    "    else:\n",
    "        return 0\n",
    "\n",
    "train_data['product_late_count'] = train_data['product_id'].apply(countProductLate)\n"
   ]
  },
  {
   "cell_type": "code",
   "execution_count": 135,
   "id": "9cac54b2-1e4e-4a50-b46e-9c225bc478a0",
   "metadata": {},
   "outputs": [],
   "source": [
    "test_data['product_late_count'] = test_data['product_id'].apply(countProductLate)\n"
   ]
  },
  {
   "cell_type": "code",
   "execution_count": 136,
   "id": "d6003796-bba9-489b-b112-df3f880fad82",
   "metadata": {},
   "outputs": [],
   "source": [
    "prod_sering = prod_late[prod_late.dist_late == 'sering']['product_id'].to_list()\n",
    "prod_lumayan = prod_late[prod_late.dist_late == 'lumayan']['product_id'].to_list()\n",
    "prod_jarang = prod_late[prod_late.dist_late == 'jarang']['product_id'].to_list()\n",
    "\n",
    "def productLate(data):\n",
    "    if(data in prod_sering):\n",
    "        return 'sering'\n",
    "    elif(data in prod_lumayan):\n",
    "        return 'lumayan'\n",
    "    elif(data in prod_jarang):\n",
    "        return 'jarang'\n",
    "    else:\n",
    "        return 'never'\n",
    "\n",
    "train_data['product_late_freq'] = train_data['product_id'].apply(productLate)\n"
   ]
  },
  {
   "cell_type": "code",
   "execution_count": 137,
   "id": "d74188c8-6750-4c4c-ae72-dcdfb86c683c",
   "metadata": {},
   "outputs": [],
   "source": [
    "test_data['product_late_freq'] = test_data['product_id'].apply(productLate)\n"
   ]
  },
  {
   "cell_type": "code",
   "execution_count": 138,
   "id": "45044f0a-80fc-44fb-9b75-a56918c5d7f7",
   "metadata": {},
   "outputs": [],
   "source": [
    "cat_name = train_data['product_category_name'].value_counts().rename_axis('product_category_name').reset_index(name='counts')\n"
   ]
  },
  {
   "cell_type": "code",
   "execution_count": 139,
   "id": "35300c7c-0802-4990-8eb2-6b4c3f06ebe3",
   "metadata": {},
   "outputs": [],
   "source": [
    "cat_late = train_data[train_data.is_late == 1]['product_category_name'].value_counts().rename_axis('product_category_name').reset_index(name='count_late')\n"
   ]
  },
  {
   "cell_type": "code",
   "execution_count": 140,
   "id": "0a52d0d0-5acc-4191-a5e0-6b7fd80698b7",
   "metadata": {},
   "outputs": [],
   "source": [
    "cat_late['all_count'] = cat_late.product_category_name.map(cat_name.set_index('product_category_name')['counts'])"
   ]
  },
  {
   "cell_type": "code",
   "execution_count": 141,
   "id": "eda75a7f-bf9c-4196-b7b5-fe7200d847da",
   "metadata": {},
   "outputs": [],
   "source": [
    "cat_late['late_prop'] = cat_late['count_late'] / cat_late['all_count']\n"
   ]
  },
  {
   "cell_type": "code",
   "execution_count": 142,
   "id": "0a1dbb29-1360-4a52-bf67-eff0a560cf41",
   "metadata": {},
   "outputs": [
    {
     "data": {
      "text/html": [
       "<div>\n",
       "<style scoped>\n",
       "    .dataframe tbody tr th:only-of-type {\n",
       "        vertical-align: middle;\n",
       "    }\n",
       "\n",
       "    .dataframe tbody tr th {\n",
       "        vertical-align: top;\n",
       "    }\n",
       "\n",
       "    .dataframe thead th {\n",
       "        text-align: right;\n",
       "    }\n",
       "</style>\n",
       "<table border=\"1\" class=\"dataframe\">\n",
       "  <thead>\n",
       "    <tr style=\"text-align: right;\">\n",
       "      <th></th>\n",
       "      <th>count_late</th>\n",
       "      <th>all_count</th>\n",
       "      <th>late_prop</th>\n",
       "    </tr>\n",
       "  </thead>\n",
       "  <tbody>\n",
       "    <tr>\n",
       "      <th>count</th>\n",
       "      <td>50.000000</td>\n",
       "      <td>50.000000</td>\n",
       "      <td>50.000000</td>\n",
       "    </tr>\n",
       "    <tr>\n",
       "      <th>mean</th>\n",
       "      <td>134.120000</td>\n",
       "      <td>1737.220000</td>\n",
       "      <td>0.079256</td>\n",
       "    </tr>\n",
       "    <tr>\n",
       "      <th>std</th>\n",
       "      <td>715.871487</td>\n",
       "      <td>9237.587361</td>\n",
       "      <td>0.032917</td>\n",
       "    </tr>\n",
       "    <tr>\n",
       "      <th>min</th>\n",
       "      <td>1.000000</td>\n",
       "      <td>7.000000</td>\n",
       "      <td>0.029412</td>\n",
       "    </tr>\n",
       "    <tr>\n",
       "      <th>25%</th>\n",
       "      <td>4.000000</td>\n",
       "      <td>59.500000</td>\n",
       "      <td>0.056876</td>\n",
       "    </tr>\n",
       "    <tr>\n",
       "      <th>50%</th>\n",
       "      <td>11.000000</td>\n",
       "      <td>121.000000</td>\n",
       "      <td>0.076691</td>\n",
       "    </tr>\n",
       "    <tr>\n",
       "      <th>75%</th>\n",
       "      <td>48.750000</td>\n",
       "      <td>637.250000</td>\n",
       "      <td>0.092000</td>\n",
       "    </tr>\n",
       "    <tr>\n",
       "      <th>max</th>\n",
       "      <td>5084.000000</td>\n",
       "      <td>65618.000000</td>\n",
       "      <td>0.210526</td>\n",
       "    </tr>\n",
       "  </tbody>\n",
       "</table>\n",
       "</div>"
      ],
      "text/plain": [
       "        count_late     all_count  late_prop\n",
       "count    50.000000     50.000000  50.000000\n",
       "mean    134.120000   1737.220000   0.079256\n",
       "std     715.871487   9237.587361   0.032917\n",
       "min       1.000000      7.000000   0.029412\n",
       "25%       4.000000     59.500000   0.056876\n",
       "50%      11.000000    121.000000   0.076691\n",
       "75%      48.750000    637.250000   0.092000\n",
       "max    5084.000000  65618.000000   0.210526"
      ]
     },
     "execution_count": 142,
     "metadata": {},
     "output_type": "execute_result"
    }
   ],
   "source": [
    "cat_late.describe()"
   ]
  },
  {
   "cell_type": "code",
   "execution_count": 143,
   "id": "7158efe3-c09c-4f51-838f-1836275082aa",
   "metadata": {},
   "outputs": [],
   "source": [
    "sectil = cat_late['count_late'].quantile([0.25]).values[0]\n",
    "thirtil = cat_late['count_late'].quantile([0.75]).values[0]\n",
    "cat_late['dist_late'] = cat_late['count_late'].apply(lambda x:'sering' if x>=thirtil else ('lumayan' if x>=sectil and x<thirtil else 'jarang'))\n"
   ]
  },
  {
   "cell_type": "code",
   "execution_count": 144,
   "id": "314f247d-a947-4e1b-9182-2aadfe567cb3",
   "metadata": {},
   "outputs": [],
   "source": [
    "cat_list = cat_late['product_category_name'].to_list()\n",
    "\n",
    "def propCatLate(data):\n",
    "    if(data in cat_list):\n",
    "        return cat_late[cat_late.product_category_name == data]['late_prop'].values[0]\n",
    "    else:\n",
    "        return 0\n",
    "\n",
    "train_data['cat_late_prop'] = train_data['product_category_name'].apply(propCatLate)\n"
   ]
  },
  {
   "cell_type": "code",
   "execution_count": 145,
   "id": "5b99929a-2c4b-4132-ba14-b05a8ad9d747",
   "metadata": {},
   "outputs": [],
   "source": [
    "test_data['cat_late_prop'] = test_data['product_category_name'].apply(propCatLate)\n"
   ]
  },
  {
   "cell_type": "code",
   "execution_count": 146,
   "id": "ad7239e9-0c55-45c1-bfa2-6a37a65d7e31",
   "metadata": {},
   "outputs": [],
   "source": [
    "cat_sering = cat_late[cat_late.dist_late == 'sering']['product_category_name'].to_list()\n",
    "cat_lumayan = cat_late[cat_late.dist_late == 'lumayan']['product_category_name'].to_list()\n",
    "cat_jarang = cat_late[cat_late.dist_late == 'jarang']['product_category_name'].to_list()\n",
    "\n",
    "def catLate(data):\n",
    "    if(data in cat_sering):\n",
    "        return 'sering'\n",
    "    elif(data in cat_lumayan):\n",
    "        return 'lumayan'\n",
    "    elif(data in cat_jarang):\n",
    "        return 'jarang'\n",
    "    else:\n",
    "        return 'never'\n",
    "\n",
    "train_data['prod_cat_late_freq'] = train_data['product_category_name'].apply(catLate)\n"
   ]
  },
  {
   "cell_type": "code",
   "execution_count": 147,
   "id": "daf6004f-93b1-4261-8a8b-0ee472603749",
   "metadata": {},
   "outputs": [],
   "source": [
    "test_data['prod_cat_late_freq'] = test_data['product_category_name'].apply(catLate)\n"
   ]
  },
  {
   "cell_type": "code",
   "execution_count": 148,
   "id": "28533a06-1d3d-4ae5-84e8-31e39db4dfc7",
   "metadata": {},
   "outputs": [],
   "source": [
    "train_data.to_csv('./raw-train-intel2.csv', index=False)"
   ]
  },
  {
   "cell_type": "code",
   "execution_count": 149,
   "id": "565bae41-3257-4970-bab6-7ddd018bae35",
   "metadata": {},
   "outputs": [],
   "source": [
    "train_data['prob_mean'] = train_data[['vol_late_prop', 'pur_late_prop', 'app_late_prop',\n",
    "                                'purh_late_prop', 'apph_late_prop', 'price_late_prop',\n",
    "                                'install_late_prop', 'pt_late_prop', 'pw_late_prop',\n",
    "                                'sc_late_prop', 'ps_late_prop', 'zip_late_prop',\n",
    "                                'city_late_prop', 'state_late_prop', 'seller_late_prop', \n",
    "                                'product_late_prop', 'cat_late_prop', 'apmpu_late_prop']].mean(axis = 1, skipna = True)\n"
   ]
  },
  {
   "cell_type": "code",
   "execution_count": 150,
   "id": "1df22847-97e5-45b0-a89c-b4d777955fc3",
   "metadata": {},
   "outputs": [],
   "source": [
    "test_data['prob_mean'] = test_data[['vol_late_prop', 'pur_late_prop', 'app_late_prop',\n",
    "                                'purh_late_prop', 'apph_late_prop', 'price_late_prop',\n",
    "                                'install_late_prop', 'pt_late_prop', 'pw_late_prop',\n",
    "                                'sc_late_prop', 'ps_late_prop', 'zip_late_prop',\n",
    "                                'city_late_prop', 'state_late_prop', 'seller_late_prop', \n",
    "                                'product_late_prop', 'apmpu_late_prop','cat_late_prop']].mean(axis = 1, skipna = True)\n"
   ]
  },
  {
   "cell_type": "code",
   "execution_count": 151,
   "id": "ce490923-5d3a-474f-903a-4369f21edec3",
   "metadata": {},
   "outputs": [],
   "source": [
    "train_fix = train_data.drop(['customer_id', 'order_purchase_timestamp', 'order_approved_at', \n",
    "                             'order_delivered_timestamp', 'order_estimated_delivery_date',\n",
    "                             'product_length_cm', 'product_height_cm', 'product_width_cm'\n",
    "                               ], axis=1)"
   ]
  },
  {
   "cell_type": "code",
   "execution_count": 152,
   "id": "159686f3-dd3f-4db6-bcba-8ad30744e86b",
   "metadata": {},
   "outputs": [],
   "source": [
    "test_fix = test_data.drop(['customer_id', 'order_purchase_timestamp', 'order_approved_at', \n",
    "                       'product_length_cm', 'product_height_cm', 'product_width_cm',\n",
    "                      ], axis=1)"
   ]
  },
  {
   "cell_type": "code",
   "execution_count": 153,
   "id": "16ace6b9-230a-4367-ae28-88612cf6d4a6",
   "metadata": {},
   "outputs": [],
   "source": [
    "train_fix['approved_day_of_week'] = train_fix['approved_day_of_week'].astype(int)\n",
    "train_fix['approved_hour'] = train_fix['approved_hour'].astype(int)\n",
    "train_fix['approved_min_purchase'] = train_fix['approved_min_purchase'].astype(float)\n",
    "for col in train_fix.select_dtypes(include=[\"object\"]).columns:\n",
    "    train_fix[col] = train_fix[col].astype('category')"
   ]
  },
  {
   "cell_type": "code",
   "execution_count": 154,
   "id": "1d40f4dd-9cba-4e03-a40f-8a811b5c564c",
   "metadata": {},
   "outputs": [],
   "source": [
    "test_fix['approved_day_of_week'] = test_fix['approved_day_of_week'].astype(int)\n",
    "test_fix['approved_hour'] = test_fix['approved_hour'].astype(int)\n",
    "test_fix['approved_min_purchase'] = test_fix['approved_min_purchase'].astype(float)\n",
    "for col in test_fix.select_dtypes(include=[\"object\"]).columns:\n",
    "    test_fix[col] = test_fix[col].astype('category')\n",
    "    \n"
   ]
  },
  {
   "cell_type": "code",
   "execution_count": 155,
   "id": "34c17fb4-a336-4faf-b9b6-0c9f194167b7",
   "metadata": {},
   "outputs": [],
   "source": [
    "ohe_tr = pd.get_dummies(train_fix, columns = ['payment_type'])\n"
   ]
  },
  {
   "cell_type": "code",
   "execution_count": 156,
   "id": "14b5aaa0-58e4-4361-a378-0a0aad8d13b1",
   "metadata": {},
   "outputs": [],
   "source": [
    "ohe_ts = pd.get_dummies(test_fix, columns = ['payment_type'])\n"
   ]
  },
  {
   "cell_type": "code",
   "execution_count": 157,
   "id": "9bd61783-3c12-48c3-b734-fef67413b12d",
   "metadata": {},
   "outputs": [],
   "source": [
    "for col in ohe_tr.select_dtypes(include=[\"bool\"]).columns:\n",
    "    ohe_tr[col] = ohe_tr[col].astype('int')"
   ]
  },
  {
   "cell_type": "code",
   "execution_count": 158,
   "id": "098553bf-3ec9-4e1a-9ef2-b2bc7ed2fd45",
   "metadata": {},
   "outputs": [],
   "source": [
    "for col in ohe_ts.select_dtypes(include=[\"bool\"]).columns:\n",
    "    ohe_ts[col] = ohe_ts[col].astype('int')"
   ]
  },
  {
   "cell_type": "code",
   "execution_count": 159,
   "id": "d759bd64-1413-4240-83a4-7132446e9ff1",
   "metadata": {},
   "outputs": [],
   "source": [
    "ohe_tr['customer_zip_code_prefix'] = ohe_tr['customer_zip_code_prefix'].astype('category')\n",
    "ohe_ts['customer_zip_code_prefix'] = ohe_ts['customer_zip_code_prefix'].astype('category')\n"
   ]
  },
  {
   "cell_type": "code",
   "execution_count": 160,
   "id": "3ea17ad1-14f1-4ca0-9a2c-48e83b4f93ce",
   "metadata": {},
   "outputs": [],
   "source": [
    "label_encoder = preprocessing.LabelEncoder()\n",
    "\n",
    "zip_code = pd.concat([ohe_tr['customer_zip_code_prefix'], ohe_ts['customer_zip_code_prefix']])\n",
    "label_encoder.fit(zip_code)\n",
    "ohe_tr['customer_zip_code_prefix']= label_encoder.transform(ohe_tr['customer_zip_code_prefix'])\n",
    "ohe_ts['customer_zip_code_prefix']= label_encoder.transform(ohe_ts['customer_zip_code_prefix'])\n",
    "\n",
    "custom_city = pd.concat([ohe_tr['customer_city'], ohe_ts['customer_city']])\n",
    "label_encoder.fit(custom_city)\n",
    "ohe_tr['customer_city']= label_encoder.transform(ohe_tr['customer_city'])\n",
    "ohe_ts['customer_city']= label_encoder.transform(ohe_ts['customer_city'])\n",
    "custom_state = pd.concat([ohe_tr['customer_state'], ohe_ts['customer_state']])\n",
    "label_encoder.fit(custom_state)\n",
    "ohe_tr['customer_state']= label_encoder.transform(ohe_tr['customer_state'])\n",
    "ohe_ts['customer_state']= label_encoder.transform(ohe_ts['customer_state'])\n",
    "\n",
    "prods_id = pd.concat([ohe_tr['product_id'], ohe_ts['product_id']])\n",
    "label_encoder.fit(prods_id)\n",
    "ohe_tr['product_id']= label_encoder.transform(ohe_tr['product_id'])\n",
    "ohe_ts['product_id']= label_encoder.transform(ohe_ts['product_id'])\n",
    "\n",
    "sell_id = pd.concat([ohe_tr['seller_id'], ohe_ts['seller_id']])\n",
    "label_encoder.fit(sell_id)\n",
    "ohe_tr['seller_id']= label_encoder.transform(ohe_tr['seller_id'])\n",
    "ohe_ts['seller_id']= label_encoder.transform(ohe_ts['seller_id'])\n",
    "\n",
    "cat_name = pd.concat([ohe_tr['product_category_name'], ohe_ts['product_category_name']])\n",
    "label_encoder.fit(cat_name)\n",
    "ohe_tr['product_category_name']= label_encoder.transform(ohe_tr['product_category_name'])\n",
    "ohe_ts['product_category_name']= label_encoder.transform(ohe_ts['product_category_name'])\n"
   ]
  },
  {
   "cell_type": "code",
   "execution_count": 161,
   "id": "65a500e2-aa10-4b1f-aa16-c6bdd0164848",
   "metadata": {},
   "outputs": [
    {
     "name": "stderr",
     "output_type": "stream",
     "text": [
      "C:\\Users\\sdhar\\AppData\\Local\\Temp\\ipykernel_10216\\2877487495.py:1: FutureWarning: A value is trying to be set on a copy of a DataFrame or Series through chained assignment using an inplace method.\n",
      "The behavior will change in pandas 3.0. This inplace method will never work because the intermediate object on which we are setting values always behaves as a copy.\n",
      "\n",
      "For example, when doing 'df[col].method(value, inplace=True)', try using 'df.method({col: value}, inplace=True)' or df[col] = df[col].method(value) instead, to perform the operation inplace on the original object.\n",
      "\n",
      "\n",
      "  ohe_tr['price_category'].replace({'cheap': 0, 'affordable': 1, 'expensive': 2}, inplace=True)\n",
      "C:\\Users\\sdhar\\AppData\\Local\\Temp\\ipykernel_10216\\2877487495.py:1: FutureWarning: Downcasting behavior in `replace` is deprecated and will be removed in a future version. To retain the old behavior, explicitly call `result.infer_objects(copy=False)`. To opt-in to the future behavior, set `pd.set_option('future.no_silent_downcasting', True)`\n",
      "  ohe_tr['price_category'].replace({'cheap': 0, 'affordable': 1, 'expensive': 2}, inplace=True)\n",
      "C:\\Users\\sdhar\\AppData\\Local\\Temp\\ipykernel_10216\\2877487495.py:1: FutureWarning: The behavior of Series.replace (and DataFrame.replace) with CategoricalDtype is deprecated. In a future version, replace will only be used for cases that preserve the categories. To change the categories, use ser.cat.rename_categories instead.\n",
      "  ohe_tr['price_category'].replace({'cheap': 0, 'affordable': 1, 'expensive': 2}, inplace=True)\n",
      "C:\\Users\\sdhar\\AppData\\Local\\Temp\\ipykernel_10216\\2877487495.py:2: FutureWarning: A value is trying to be set on a copy of a DataFrame or Series through chained assignment using an inplace method.\n",
      "The behavior will change in pandas 3.0. This inplace method will never work because the intermediate object on which we are setting values always behaves as a copy.\n",
      "\n",
      "For example, when doing 'df[col].method(value, inplace=True)', try using 'df.method({col: value}, inplace=True)' or df[col] = df[col].method(value) instead, to perform the operation inplace on the original object.\n",
      "\n",
      "\n",
      "  ohe_tr['volume_category'].replace({'small': 0, 'medium': 1, 'large': 2}, inplace=True)\n",
      "C:\\Users\\sdhar\\AppData\\Local\\Temp\\ipykernel_10216\\2877487495.py:2: FutureWarning: Downcasting behavior in `replace` is deprecated and will be removed in a future version. To retain the old behavior, explicitly call `result.infer_objects(copy=False)`. To opt-in to the future behavior, set `pd.set_option('future.no_silent_downcasting', True)`\n",
      "  ohe_tr['volume_category'].replace({'small': 0, 'medium': 1, 'large': 2}, inplace=True)\n",
      "C:\\Users\\sdhar\\AppData\\Local\\Temp\\ipykernel_10216\\2877487495.py:2: FutureWarning: The behavior of Series.replace (and DataFrame.replace) with CategoricalDtype is deprecated. In a future version, replace will only be used for cases that preserve the categories. To change the categories, use ser.cat.rename_categories instead.\n",
      "  ohe_tr['volume_category'].replace({'small': 0, 'medium': 1, 'large': 2}, inplace=True)\n",
      "C:\\Users\\sdhar\\AppData\\Local\\Temp\\ipykernel_10216\\2877487495.py:3: FutureWarning: A value is trying to be set on a copy of a DataFrame or Series through chained assignment using an inplace method.\n",
      "The behavior will change in pandas 3.0. This inplace method will never work because the intermediate object on which we are setting values always behaves as a copy.\n",
      "\n",
      "For example, when doing 'df[col].method(value, inplace=True)', try using 'df.method({col: value}, inplace=True)' or df[col] = df[col].method(value) instead, to perform the operation inplace on the original object.\n",
      "\n",
      "\n",
      "  ohe_tr['weight_category'].replace({'light': 0, 'medium': 1, 'heavy': 2}, inplace=True)\n",
      "C:\\Users\\sdhar\\AppData\\Local\\Temp\\ipykernel_10216\\2877487495.py:3: FutureWarning: Downcasting behavior in `replace` is deprecated and will be removed in a future version. To retain the old behavior, explicitly call `result.infer_objects(copy=False)`. To opt-in to the future behavior, set `pd.set_option('future.no_silent_downcasting', True)`\n",
      "  ohe_tr['weight_category'].replace({'light': 0, 'medium': 1, 'heavy': 2}, inplace=True)\n",
      "C:\\Users\\sdhar\\AppData\\Local\\Temp\\ipykernel_10216\\2877487495.py:3: FutureWarning: The behavior of Series.replace (and DataFrame.replace) with CategoricalDtype is deprecated. In a future version, replace will only be used for cases that preserve the categories. To change the categories, use ser.cat.rename_categories instead.\n",
      "  ohe_tr['weight_category'].replace({'light': 0, 'medium': 1, 'heavy': 2}, inplace=True)\n",
      "C:\\Users\\sdhar\\AppData\\Local\\Temp\\ipykernel_10216\\2877487495.py:4: FutureWarning: A value is trying to be set on a copy of a DataFrame or Series through chained assignment using an inplace method.\n",
      "The behavior will change in pandas 3.0. This inplace method will never work because the intermediate object on which we are setting values always behaves as a copy.\n",
      "\n",
      "For example, when doing 'df[col].method(value, inplace=True)', try using 'df.method({col: value}, inplace=True)' or df[col] = df[col].method(value) instead, to perform the operation inplace on the original object.\n",
      "\n",
      "\n",
      "  ohe_tr['freight_category'].replace({'cheap': 0, 'medium': 1, 'expensive': 2}, inplace=True)\n",
      "C:\\Users\\sdhar\\AppData\\Local\\Temp\\ipykernel_10216\\2877487495.py:4: FutureWarning: Downcasting behavior in `replace` is deprecated and will be removed in a future version. To retain the old behavior, explicitly call `result.infer_objects(copy=False)`. To opt-in to the future behavior, set `pd.set_option('future.no_silent_downcasting', True)`\n",
      "  ohe_tr['freight_category'].replace({'cheap': 0, 'medium': 1, 'expensive': 2}, inplace=True)\n",
      "C:\\Users\\sdhar\\AppData\\Local\\Temp\\ipykernel_10216\\2877487495.py:4: FutureWarning: The behavior of Series.replace (and DataFrame.replace) with CategoricalDtype is deprecated. In a future version, replace will only be used for cases that preserve the categories. To change the categories, use ser.cat.rename_categories instead.\n",
      "  ohe_tr['freight_category'].replace({'cheap': 0, 'medium': 1, 'expensive': 2}, inplace=True)\n",
      "C:\\Users\\sdhar\\AppData\\Local\\Temp\\ipykernel_10216\\2877487495.py:5: FutureWarning: A value is trying to be set on a copy of a DataFrame or Series through chained assignment using an inplace method.\n",
      "The behavior will change in pandas 3.0. This inplace method will never work because the intermediate object on which we are setting values always behaves as a copy.\n",
      "\n",
      "For example, when doing 'df[col].method(value, inplace=True)', try using 'df.method({col: value}, inplace=True)' or df[col] = df[col].method(value) instead, to perform the operation inplace on the original object.\n",
      "\n",
      "\n",
      "  ohe_tr['zip_late_freq'].replace({'never': 0, 'jarang': 1, 'lumayan': 2, 'sering': 3}, inplace=True)\n",
      "C:\\Users\\sdhar\\AppData\\Local\\Temp\\ipykernel_10216\\2877487495.py:5: FutureWarning: Downcasting behavior in `replace` is deprecated and will be removed in a future version. To retain the old behavior, explicitly call `result.infer_objects(copy=False)`. To opt-in to the future behavior, set `pd.set_option('future.no_silent_downcasting', True)`\n",
      "  ohe_tr['zip_late_freq'].replace({'never': 0, 'jarang': 1, 'lumayan': 2, 'sering': 3}, inplace=True)\n",
      "C:\\Users\\sdhar\\AppData\\Local\\Temp\\ipykernel_10216\\2877487495.py:5: FutureWarning: The behavior of Series.replace (and DataFrame.replace) with CategoricalDtype is deprecated. In a future version, replace will only be used for cases that preserve the categories. To change the categories, use ser.cat.rename_categories instead.\n",
      "  ohe_tr['zip_late_freq'].replace({'never': 0, 'jarang': 1, 'lumayan': 2, 'sering': 3}, inplace=True)\n",
      "C:\\Users\\sdhar\\AppData\\Local\\Temp\\ipykernel_10216\\2877487495.py:6: FutureWarning: A value is trying to be set on a copy of a DataFrame or Series through chained assignment using an inplace method.\n",
      "The behavior will change in pandas 3.0. This inplace method will never work because the intermediate object on which we are setting values always behaves as a copy.\n",
      "\n",
      "For example, when doing 'df[col].method(value, inplace=True)', try using 'df.method({col: value}, inplace=True)' or df[col] = df[col].method(value) instead, to perform the operation inplace on the original object.\n",
      "\n",
      "\n",
      "  ohe_tr['apmpu_category'].replace({'fast': 0, 'medium': 1, 'slow': 2}, inplace=True)\n",
      "C:\\Users\\sdhar\\AppData\\Local\\Temp\\ipykernel_10216\\2877487495.py:6: FutureWarning: Downcasting behavior in `replace` is deprecated and will be removed in a future version. To retain the old behavior, explicitly call `result.infer_objects(copy=False)`. To opt-in to the future behavior, set `pd.set_option('future.no_silent_downcasting', True)`\n",
      "  ohe_tr['apmpu_category'].replace({'fast': 0, 'medium': 1, 'slow': 2}, inplace=True)\n",
      "C:\\Users\\sdhar\\AppData\\Local\\Temp\\ipykernel_10216\\2877487495.py:6: FutureWarning: The behavior of Series.replace (and DataFrame.replace) with CategoricalDtype is deprecated. In a future version, replace will only be used for cases that preserve the categories. To change the categories, use ser.cat.rename_categories instead.\n",
      "  ohe_tr['apmpu_category'].replace({'fast': 0, 'medium': 1, 'slow': 2}, inplace=True)\n",
      "C:\\Users\\sdhar\\AppData\\Local\\Temp\\ipykernel_10216\\2877487495.py:7: FutureWarning: A value is trying to be set on a copy of a DataFrame or Series through chained assignment using an inplace method.\n",
      "The behavior will change in pandas 3.0. This inplace method will never work because the intermediate object on which we are setting values always behaves as a copy.\n",
      "\n",
      "For example, when doing 'df[col].method(value, inplace=True)', try using 'df.method({col: value}, inplace=True)' or df[col] = df[col].method(value) instead, to perform the operation inplace on the original object.\n",
      "\n",
      "\n",
      "  ohe_tr['city_late_freq'].replace({'never': 0, 'jarang': 1, 'lumayan': 2, 'sering': 3}, inplace=True)\n",
      "C:\\Users\\sdhar\\AppData\\Local\\Temp\\ipykernel_10216\\2877487495.py:7: FutureWarning: Downcasting behavior in `replace` is deprecated and will be removed in a future version. To retain the old behavior, explicitly call `result.infer_objects(copy=False)`. To opt-in to the future behavior, set `pd.set_option('future.no_silent_downcasting', True)`\n",
      "  ohe_tr['city_late_freq'].replace({'never': 0, 'jarang': 1, 'lumayan': 2, 'sering': 3}, inplace=True)\n",
      "C:\\Users\\sdhar\\AppData\\Local\\Temp\\ipykernel_10216\\2877487495.py:7: FutureWarning: The behavior of Series.replace (and DataFrame.replace) with CategoricalDtype is deprecated. In a future version, replace will only be used for cases that preserve the categories. To change the categories, use ser.cat.rename_categories instead.\n",
      "  ohe_tr['city_late_freq'].replace({'never': 0, 'jarang': 1, 'lumayan': 2, 'sering': 3}, inplace=True)\n",
      "C:\\Users\\sdhar\\AppData\\Local\\Temp\\ipykernel_10216\\2877487495.py:8: FutureWarning: A value is trying to be set on a copy of a DataFrame or Series through chained assignment using an inplace method.\n",
      "The behavior will change in pandas 3.0. This inplace method will never work because the intermediate object on which we are setting values always behaves as a copy.\n",
      "\n",
      "For example, when doing 'df[col].method(value, inplace=True)', try using 'df.method({col: value}, inplace=True)' or df[col] = df[col].method(value) instead, to perform the operation inplace on the original object.\n",
      "\n",
      "\n",
      "  ohe_tr['state_late_freq'].replace({'never': 0, 'jarang': 1, 'lumayan': 2, 'sering': 3}, inplace=True)\n",
      "C:\\Users\\sdhar\\AppData\\Local\\Temp\\ipykernel_10216\\2877487495.py:8: FutureWarning: Downcasting behavior in `replace` is deprecated and will be removed in a future version. To retain the old behavior, explicitly call `result.infer_objects(copy=False)`. To opt-in to the future behavior, set `pd.set_option('future.no_silent_downcasting', True)`\n",
      "  ohe_tr['state_late_freq'].replace({'never': 0, 'jarang': 1, 'lumayan': 2, 'sering': 3}, inplace=True)\n",
      "C:\\Users\\sdhar\\AppData\\Local\\Temp\\ipykernel_10216\\2877487495.py:8: FutureWarning: The behavior of Series.replace (and DataFrame.replace) with CategoricalDtype is deprecated. In a future version, replace will only be used for cases that preserve the categories. To change the categories, use ser.cat.rename_categories instead.\n",
      "  ohe_tr['state_late_freq'].replace({'never': 0, 'jarang': 1, 'lumayan': 2, 'sering': 3}, inplace=True)\n",
      "C:\\Users\\sdhar\\AppData\\Local\\Temp\\ipykernel_10216\\2877487495.py:9: FutureWarning: A value is trying to be set on a copy of a DataFrame or Series through chained assignment using an inplace method.\n",
      "The behavior will change in pandas 3.0. This inplace method will never work because the intermediate object on which we are setting values always behaves as a copy.\n",
      "\n",
      "For example, when doing 'df[col].method(value, inplace=True)', try using 'df.method({col: value}, inplace=True)' or df[col] = df[col].method(value) instead, to perform the operation inplace on the original object.\n",
      "\n",
      "\n",
      "  ohe_tr['seller_late_freq'].replace({'never': 0, 'jarang': 1, 'lumayan': 2, 'sering': 3}, inplace=True)\n",
      "C:\\Users\\sdhar\\AppData\\Local\\Temp\\ipykernel_10216\\2877487495.py:9: FutureWarning: Downcasting behavior in `replace` is deprecated and will be removed in a future version. To retain the old behavior, explicitly call `result.infer_objects(copy=False)`. To opt-in to the future behavior, set `pd.set_option('future.no_silent_downcasting', True)`\n",
      "  ohe_tr['seller_late_freq'].replace({'never': 0, 'jarang': 1, 'lumayan': 2, 'sering': 3}, inplace=True)\n",
      "C:\\Users\\sdhar\\AppData\\Local\\Temp\\ipykernel_10216\\2877487495.py:9: FutureWarning: The behavior of Series.replace (and DataFrame.replace) with CategoricalDtype is deprecated. In a future version, replace will only be used for cases that preserve the categories. To change the categories, use ser.cat.rename_categories instead.\n",
      "  ohe_tr['seller_late_freq'].replace({'never': 0, 'jarang': 1, 'lumayan': 2, 'sering': 3}, inplace=True)\n",
      "C:\\Users\\sdhar\\AppData\\Local\\Temp\\ipykernel_10216\\2877487495.py:10: FutureWarning: A value is trying to be set on a copy of a DataFrame or Series through chained assignment using an inplace method.\n",
      "The behavior will change in pandas 3.0. This inplace method will never work because the intermediate object on which we are setting values always behaves as a copy.\n",
      "\n",
      "For example, when doing 'df[col].method(value, inplace=True)', try using 'df.method({col: value}, inplace=True)' or df[col] = df[col].method(value) instead, to perform the operation inplace on the original object.\n",
      "\n",
      "\n",
      "  ohe_tr['product_late_freq'].replace({'never': 0, 'jarang': 1, 'lumayan': 2, 'sering': 3}, inplace=True)\n",
      "C:\\Users\\sdhar\\AppData\\Local\\Temp\\ipykernel_10216\\2877487495.py:10: FutureWarning: Downcasting behavior in `replace` is deprecated and will be removed in a future version. To retain the old behavior, explicitly call `result.infer_objects(copy=False)`. To opt-in to the future behavior, set `pd.set_option('future.no_silent_downcasting', True)`\n",
      "  ohe_tr['product_late_freq'].replace({'never': 0, 'jarang': 1, 'lumayan': 2, 'sering': 3}, inplace=True)\n",
      "C:\\Users\\sdhar\\AppData\\Local\\Temp\\ipykernel_10216\\2877487495.py:10: FutureWarning: The behavior of Series.replace (and DataFrame.replace) with CategoricalDtype is deprecated. In a future version, replace will only be used for cases that preserve the categories. To change the categories, use ser.cat.rename_categories instead.\n",
      "  ohe_tr['product_late_freq'].replace({'never': 0, 'jarang': 1, 'lumayan': 2, 'sering': 3}, inplace=True)\n",
      "C:\\Users\\sdhar\\AppData\\Local\\Temp\\ipykernel_10216\\2877487495.py:11: FutureWarning: A value is trying to be set on a copy of a DataFrame or Series through chained assignment using an inplace method.\n",
      "The behavior will change in pandas 3.0. This inplace method will never work because the intermediate object on which we are setting values always behaves as a copy.\n",
      "\n",
      "For example, when doing 'df[col].method(value, inplace=True)', try using 'df.method({col: value}, inplace=True)' or df[col] = df[col].method(value) instead, to perform the operation inplace on the original object.\n",
      "\n",
      "\n",
      "  ohe_tr['prod_cat_late_freq'].replace({'never': 0, 'jarang': 1, 'lumayan': 2, 'sering': 3}, inplace=True)\n",
      "C:\\Users\\sdhar\\AppData\\Local\\Temp\\ipykernel_10216\\2877487495.py:11: FutureWarning: Downcasting behavior in `replace` is deprecated and will be removed in a future version. To retain the old behavior, explicitly call `result.infer_objects(copy=False)`. To opt-in to the future behavior, set `pd.set_option('future.no_silent_downcasting', True)`\n",
      "  ohe_tr['prod_cat_late_freq'].replace({'never': 0, 'jarang': 1, 'lumayan': 2, 'sering': 3}, inplace=True)\n",
      "C:\\Users\\sdhar\\AppData\\Local\\Temp\\ipykernel_10216\\2877487495.py:11: FutureWarning: The behavior of Series.replace (and DataFrame.replace) with CategoricalDtype is deprecated. In a future version, replace will only be used for cases that preserve the categories. To change the categories, use ser.cat.rename_categories instead.\n",
      "  ohe_tr['prod_cat_late_freq'].replace({'never': 0, 'jarang': 1, 'lumayan': 2, 'sering': 3}, inplace=True)\n"
     ]
    }
   ],
   "source": [
    "ohe_tr['price_category'].replace({'cheap': 0, 'affordable': 1, 'expensive': 2}, inplace=True)\n",
    "ohe_tr['volume_category'].replace({'small': 0, 'medium': 1, 'large': 2}, inplace=True)\n",
    "ohe_tr['weight_category'].replace({'light': 0, 'medium': 1, 'heavy': 2}, inplace=True)\n",
    "ohe_tr['freight_category'].replace({'cheap': 0, 'medium': 1, 'expensive': 2}, inplace=True)\n",
    "ohe_tr['zip_late_freq'].replace({'never': 0, 'jarang': 1, 'lumayan': 2, 'sering': 3}, inplace=True)\n",
    "ohe_tr['apmpu_category'].replace({'fast': 0, 'medium': 1, 'slow': 2}, inplace=True)\n",
    "ohe_tr['city_late_freq'].replace({'never': 0, 'jarang': 1, 'lumayan': 2, 'sering': 3}, inplace=True)\n",
    "ohe_tr['state_late_freq'].replace({'never': 0, 'jarang': 1, 'lumayan': 2, 'sering': 3}, inplace=True)\n",
    "ohe_tr['seller_late_freq'].replace({'never': 0, 'jarang': 1, 'lumayan': 2, 'sering': 3}, inplace=True)\n",
    "ohe_tr['product_late_freq'].replace({'never': 0, 'jarang': 1, 'lumayan': 2, 'sering': 3}, inplace=True)\n",
    "ohe_tr['prod_cat_late_freq'].replace({'never': 0, 'jarang': 1, 'lumayan': 2, 'sering': 3}, inplace=True)\n"
   ]
  },
  {
   "cell_type": "code",
   "execution_count": 162,
   "id": "9d6ee0fc-2a73-4394-baec-b29c9c082052",
   "metadata": {},
   "outputs": [
    {
     "name": "stderr",
     "output_type": "stream",
     "text": [
      "C:\\Users\\sdhar\\AppData\\Local\\Temp\\ipykernel_10216\\529129428.py:1: FutureWarning: A value is trying to be set on a copy of a DataFrame or Series through chained assignment using an inplace method.\n",
      "The behavior will change in pandas 3.0. This inplace method will never work because the intermediate object on which we are setting values always behaves as a copy.\n",
      "\n",
      "For example, when doing 'df[col].method(value, inplace=True)', try using 'df.method({col: value}, inplace=True)' or df[col] = df[col].method(value) instead, to perform the operation inplace on the original object.\n",
      "\n",
      "\n",
      "  ohe_ts['price_category'].replace({'cheap': 0, 'affordable': 1, 'expensive': 2}, inplace=True)\n",
      "C:\\Users\\sdhar\\AppData\\Local\\Temp\\ipykernel_10216\\529129428.py:1: FutureWarning: Downcasting behavior in `replace` is deprecated and will be removed in a future version. To retain the old behavior, explicitly call `result.infer_objects(copy=False)`. To opt-in to the future behavior, set `pd.set_option('future.no_silent_downcasting', True)`\n",
      "  ohe_ts['price_category'].replace({'cheap': 0, 'affordable': 1, 'expensive': 2}, inplace=True)\n",
      "C:\\Users\\sdhar\\AppData\\Local\\Temp\\ipykernel_10216\\529129428.py:1: FutureWarning: The behavior of Series.replace (and DataFrame.replace) with CategoricalDtype is deprecated. In a future version, replace will only be used for cases that preserve the categories. To change the categories, use ser.cat.rename_categories instead.\n",
      "  ohe_ts['price_category'].replace({'cheap': 0, 'affordable': 1, 'expensive': 2}, inplace=True)\n",
      "C:\\Users\\sdhar\\AppData\\Local\\Temp\\ipykernel_10216\\529129428.py:2: FutureWarning: A value is trying to be set on a copy of a DataFrame or Series through chained assignment using an inplace method.\n",
      "The behavior will change in pandas 3.0. This inplace method will never work because the intermediate object on which we are setting values always behaves as a copy.\n",
      "\n",
      "For example, when doing 'df[col].method(value, inplace=True)', try using 'df.method({col: value}, inplace=True)' or df[col] = df[col].method(value) instead, to perform the operation inplace on the original object.\n",
      "\n",
      "\n",
      "  ohe_ts['volume_category'].replace({'small': 0, 'medium': 1, 'large': 2}, inplace=True)\n",
      "C:\\Users\\sdhar\\AppData\\Local\\Temp\\ipykernel_10216\\529129428.py:2: FutureWarning: Downcasting behavior in `replace` is deprecated and will be removed in a future version. To retain the old behavior, explicitly call `result.infer_objects(copy=False)`. To opt-in to the future behavior, set `pd.set_option('future.no_silent_downcasting', True)`\n",
      "  ohe_ts['volume_category'].replace({'small': 0, 'medium': 1, 'large': 2}, inplace=True)\n",
      "C:\\Users\\sdhar\\AppData\\Local\\Temp\\ipykernel_10216\\529129428.py:2: FutureWarning: The behavior of Series.replace (and DataFrame.replace) with CategoricalDtype is deprecated. In a future version, replace will only be used for cases that preserve the categories. To change the categories, use ser.cat.rename_categories instead.\n",
      "  ohe_ts['volume_category'].replace({'small': 0, 'medium': 1, 'large': 2}, inplace=True)\n",
      "C:\\Users\\sdhar\\AppData\\Local\\Temp\\ipykernel_10216\\529129428.py:3: FutureWarning: A value is trying to be set on a copy of a DataFrame or Series through chained assignment using an inplace method.\n",
      "The behavior will change in pandas 3.0. This inplace method will never work because the intermediate object on which we are setting values always behaves as a copy.\n",
      "\n",
      "For example, when doing 'df[col].method(value, inplace=True)', try using 'df.method({col: value}, inplace=True)' or df[col] = df[col].method(value) instead, to perform the operation inplace on the original object.\n",
      "\n",
      "\n",
      "  ohe_ts['weight_category'].replace({'light': 0, 'medium': 1, 'heavy': 2}, inplace=True)\n",
      "C:\\Users\\sdhar\\AppData\\Local\\Temp\\ipykernel_10216\\529129428.py:3: FutureWarning: Downcasting behavior in `replace` is deprecated and will be removed in a future version. To retain the old behavior, explicitly call `result.infer_objects(copy=False)`. To opt-in to the future behavior, set `pd.set_option('future.no_silent_downcasting', True)`\n",
      "  ohe_ts['weight_category'].replace({'light': 0, 'medium': 1, 'heavy': 2}, inplace=True)\n",
      "C:\\Users\\sdhar\\AppData\\Local\\Temp\\ipykernel_10216\\529129428.py:3: FutureWarning: The behavior of Series.replace (and DataFrame.replace) with CategoricalDtype is deprecated. In a future version, replace will only be used for cases that preserve the categories. To change the categories, use ser.cat.rename_categories instead.\n",
      "  ohe_ts['weight_category'].replace({'light': 0, 'medium': 1, 'heavy': 2}, inplace=True)\n",
      "C:\\Users\\sdhar\\AppData\\Local\\Temp\\ipykernel_10216\\529129428.py:4: FutureWarning: A value is trying to be set on a copy of a DataFrame or Series through chained assignment using an inplace method.\n",
      "The behavior will change in pandas 3.0. This inplace method will never work because the intermediate object on which we are setting values always behaves as a copy.\n",
      "\n",
      "For example, when doing 'df[col].method(value, inplace=True)', try using 'df.method({col: value}, inplace=True)' or df[col] = df[col].method(value) instead, to perform the operation inplace on the original object.\n",
      "\n",
      "\n",
      "  ohe_ts['freight_category'].replace({'cheap': 0, 'medium': 1, 'expensive': 2}, inplace=True)\n",
      "C:\\Users\\sdhar\\AppData\\Local\\Temp\\ipykernel_10216\\529129428.py:4: FutureWarning: Downcasting behavior in `replace` is deprecated and will be removed in a future version. To retain the old behavior, explicitly call `result.infer_objects(copy=False)`. To opt-in to the future behavior, set `pd.set_option('future.no_silent_downcasting', True)`\n",
      "  ohe_ts['freight_category'].replace({'cheap': 0, 'medium': 1, 'expensive': 2}, inplace=True)\n",
      "C:\\Users\\sdhar\\AppData\\Local\\Temp\\ipykernel_10216\\529129428.py:4: FutureWarning: The behavior of Series.replace (and DataFrame.replace) with CategoricalDtype is deprecated. In a future version, replace will only be used for cases that preserve the categories. To change the categories, use ser.cat.rename_categories instead.\n",
      "  ohe_ts['freight_category'].replace({'cheap': 0, 'medium': 1, 'expensive': 2}, inplace=True)\n",
      "C:\\Users\\sdhar\\AppData\\Local\\Temp\\ipykernel_10216\\529129428.py:5: FutureWarning: A value is trying to be set on a copy of a DataFrame or Series through chained assignment using an inplace method.\n",
      "The behavior will change in pandas 3.0. This inplace method will never work because the intermediate object on which we are setting values always behaves as a copy.\n",
      "\n",
      "For example, when doing 'df[col].method(value, inplace=True)', try using 'df.method({col: value}, inplace=True)' or df[col] = df[col].method(value) instead, to perform the operation inplace on the original object.\n",
      "\n",
      "\n",
      "  ohe_ts['zip_late_freq'].replace({'never': 0, 'jarang': 1, 'lumayan': 2, 'sering': 3}, inplace=True)\n",
      "C:\\Users\\sdhar\\AppData\\Local\\Temp\\ipykernel_10216\\529129428.py:5: FutureWarning: Downcasting behavior in `replace` is deprecated and will be removed in a future version. To retain the old behavior, explicitly call `result.infer_objects(copy=False)`. To opt-in to the future behavior, set `pd.set_option('future.no_silent_downcasting', True)`\n",
      "  ohe_ts['zip_late_freq'].replace({'never': 0, 'jarang': 1, 'lumayan': 2, 'sering': 3}, inplace=True)\n",
      "C:\\Users\\sdhar\\AppData\\Local\\Temp\\ipykernel_10216\\529129428.py:5: FutureWarning: The behavior of Series.replace (and DataFrame.replace) with CategoricalDtype is deprecated. In a future version, replace will only be used for cases that preserve the categories. To change the categories, use ser.cat.rename_categories instead.\n",
      "  ohe_ts['zip_late_freq'].replace({'never': 0, 'jarang': 1, 'lumayan': 2, 'sering': 3}, inplace=True)\n",
      "C:\\Users\\sdhar\\AppData\\Local\\Temp\\ipykernel_10216\\529129428.py:6: FutureWarning: A value is trying to be set on a copy of a DataFrame or Series through chained assignment using an inplace method.\n",
      "The behavior will change in pandas 3.0. This inplace method will never work because the intermediate object on which we are setting values always behaves as a copy.\n",
      "\n",
      "For example, when doing 'df[col].method(value, inplace=True)', try using 'df.method({col: value}, inplace=True)' or df[col] = df[col].method(value) instead, to perform the operation inplace on the original object.\n",
      "\n",
      "\n",
      "  ohe_ts['apmpu_category'].replace({'fast': 0, 'medium': 1, 'slow': 2}, inplace=True)\n",
      "C:\\Users\\sdhar\\AppData\\Local\\Temp\\ipykernel_10216\\529129428.py:6: FutureWarning: Downcasting behavior in `replace` is deprecated and will be removed in a future version. To retain the old behavior, explicitly call `result.infer_objects(copy=False)`. To opt-in to the future behavior, set `pd.set_option('future.no_silent_downcasting', True)`\n",
      "  ohe_ts['apmpu_category'].replace({'fast': 0, 'medium': 1, 'slow': 2}, inplace=True)\n",
      "C:\\Users\\sdhar\\AppData\\Local\\Temp\\ipykernel_10216\\529129428.py:6: FutureWarning: The behavior of Series.replace (and DataFrame.replace) with CategoricalDtype is deprecated. In a future version, replace will only be used for cases that preserve the categories. To change the categories, use ser.cat.rename_categories instead.\n",
      "  ohe_ts['apmpu_category'].replace({'fast': 0, 'medium': 1, 'slow': 2}, inplace=True)\n",
      "C:\\Users\\sdhar\\AppData\\Local\\Temp\\ipykernel_10216\\529129428.py:7: FutureWarning: A value is trying to be set on a copy of a DataFrame or Series through chained assignment using an inplace method.\n",
      "The behavior will change in pandas 3.0. This inplace method will never work because the intermediate object on which we are setting values always behaves as a copy.\n",
      "\n",
      "For example, when doing 'df[col].method(value, inplace=True)', try using 'df.method({col: value}, inplace=True)' or df[col] = df[col].method(value) instead, to perform the operation inplace on the original object.\n",
      "\n",
      "\n",
      "  ohe_ts['city_late_freq'].replace({'never': 0, 'jarang': 1, 'lumayan': 2, 'sering': 3}, inplace=True)\n",
      "C:\\Users\\sdhar\\AppData\\Local\\Temp\\ipykernel_10216\\529129428.py:7: FutureWarning: Downcasting behavior in `replace` is deprecated and will be removed in a future version. To retain the old behavior, explicitly call `result.infer_objects(copy=False)`. To opt-in to the future behavior, set `pd.set_option('future.no_silent_downcasting', True)`\n",
      "  ohe_ts['city_late_freq'].replace({'never': 0, 'jarang': 1, 'lumayan': 2, 'sering': 3}, inplace=True)\n",
      "C:\\Users\\sdhar\\AppData\\Local\\Temp\\ipykernel_10216\\529129428.py:7: FutureWarning: The behavior of Series.replace (and DataFrame.replace) with CategoricalDtype is deprecated. In a future version, replace will only be used for cases that preserve the categories. To change the categories, use ser.cat.rename_categories instead.\n",
      "  ohe_ts['city_late_freq'].replace({'never': 0, 'jarang': 1, 'lumayan': 2, 'sering': 3}, inplace=True)\n",
      "C:\\Users\\sdhar\\AppData\\Local\\Temp\\ipykernel_10216\\529129428.py:8: FutureWarning: A value is trying to be set on a copy of a DataFrame or Series through chained assignment using an inplace method.\n",
      "The behavior will change in pandas 3.0. This inplace method will never work because the intermediate object on which we are setting values always behaves as a copy.\n",
      "\n",
      "For example, when doing 'df[col].method(value, inplace=True)', try using 'df.method({col: value}, inplace=True)' or df[col] = df[col].method(value) instead, to perform the operation inplace on the original object.\n",
      "\n",
      "\n",
      "  ohe_ts['state_late_freq'].replace({'never': 0, 'jarang': 1, 'lumayan': 2, 'sering': 3}, inplace=True)\n",
      "C:\\Users\\sdhar\\AppData\\Local\\Temp\\ipykernel_10216\\529129428.py:8: FutureWarning: Downcasting behavior in `replace` is deprecated and will be removed in a future version. To retain the old behavior, explicitly call `result.infer_objects(copy=False)`. To opt-in to the future behavior, set `pd.set_option('future.no_silent_downcasting', True)`\n",
      "  ohe_ts['state_late_freq'].replace({'never': 0, 'jarang': 1, 'lumayan': 2, 'sering': 3}, inplace=True)\n",
      "C:\\Users\\sdhar\\AppData\\Local\\Temp\\ipykernel_10216\\529129428.py:8: FutureWarning: The behavior of Series.replace (and DataFrame.replace) with CategoricalDtype is deprecated. In a future version, replace will only be used for cases that preserve the categories. To change the categories, use ser.cat.rename_categories instead.\n",
      "  ohe_ts['state_late_freq'].replace({'never': 0, 'jarang': 1, 'lumayan': 2, 'sering': 3}, inplace=True)\n",
      "C:\\Users\\sdhar\\AppData\\Local\\Temp\\ipykernel_10216\\529129428.py:9: FutureWarning: A value is trying to be set on a copy of a DataFrame or Series through chained assignment using an inplace method.\n",
      "The behavior will change in pandas 3.0. This inplace method will never work because the intermediate object on which we are setting values always behaves as a copy.\n",
      "\n",
      "For example, when doing 'df[col].method(value, inplace=True)', try using 'df.method({col: value}, inplace=True)' or df[col] = df[col].method(value) instead, to perform the operation inplace on the original object.\n",
      "\n",
      "\n",
      "  ohe_ts['seller_late_freq'].replace({'never': 0, 'jarang': 1, 'lumayan': 2, 'sering': 3}, inplace=True)\n",
      "C:\\Users\\sdhar\\AppData\\Local\\Temp\\ipykernel_10216\\529129428.py:9: FutureWarning: Downcasting behavior in `replace` is deprecated and will be removed in a future version. To retain the old behavior, explicitly call `result.infer_objects(copy=False)`. To opt-in to the future behavior, set `pd.set_option('future.no_silent_downcasting', True)`\n",
      "  ohe_ts['seller_late_freq'].replace({'never': 0, 'jarang': 1, 'lumayan': 2, 'sering': 3}, inplace=True)\n",
      "C:\\Users\\sdhar\\AppData\\Local\\Temp\\ipykernel_10216\\529129428.py:9: FutureWarning: The behavior of Series.replace (and DataFrame.replace) with CategoricalDtype is deprecated. In a future version, replace will only be used for cases that preserve the categories. To change the categories, use ser.cat.rename_categories instead.\n",
      "  ohe_ts['seller_late_freq'].replace({'never': 0, 'jarang': 1, 'lumayan': 2, 'sering': 3}, inplace=True)\n",
      "C:\\Users\\sdhar\\AppData\\Local\\Temp\\ipykernel_10216\\529129428.py:10: FutureWarning: A value is trying to be set on a copy of a DataFrame or Series through chained assignment using an inplace method.\n",
      "The behavior will change in pandas 3.0. This inplace method will never work because the intermediate object on which we are setting values always behaves as a copy.\n",
      "\n",
      "For example, when doing 'df[col].method(value, inplace=True)', try using 'df.method({col: value}, inplace=True)' or df[col] = df[col].method(value) instead, to perform the operation inplace on the original object.\n",
      "\n",
      "\n",
      "  ohe_ts['product_late_freq'].replace({'never': 0, 'jarang': 1, 'lumayan': 2, 'sering': 3}, inplace=True)\n",
      "C:\\Users\\sdhar\\AppData\\Local\\Temp\\ipykernel_10216\\529129428.py:10: FutureWarning: Downcasting behavior in `replace` is deprecated and will be removed in a future version. To retain the old behavior, explicitly call `result.infer_objects(copy=False)`. To opt-in to the future behavior, set `pd.set_option('future.no_silent_downcasting', True)`\n",
      "  ohe_ts['product_late_freq'].replace({'never': 0, 'jarang': 1, 'lumayan': 2, 'sering': 3}, inplace=True)\n",
      "C:\\Users\\sdhar\\AppData\\Local\\Temp\\ipykernel_10216\\529129428.py:10: FutureWarning: The behavior of Series.replace (and DataFrame.replace) with CategoricalDtype is deprecated. In a future version, replace will only be used for cases that preserve the categories. To change the categories, use ser.cat.rename_categories instead.\n",
      "  ohe_ts['product_late_freq'].replace({'never': 0, 'jarang': 1, 'lumayan': 2, 'sering': 3}, inplace=True)\n",
      "C:\\Users\\sdhar\\AppData\\Local\\Temp\\ipykernel_10216\\529129428.py:11: FutureWarning: A value is trying to be set on a copy of a DataFrame or Series through chained assignment using an inplace method.\n",
      "The behavior will change in pandas 3.0. This inplace method will never work because the intermediate object on which we are setting values always behaves as a copy.\n",
      "\n",
      "For example, when doing 'df[col].method(value, inplace=True)', try using 'df.method({col: value}, inplace=True)' or df[col] = df[col].method(value) instead, to perform the operation inplace on the original object.\n",
      "\n",
      "\n",
      "  ohe_ts['prod_cat_late_freq'].replace({'never': 0, 'jarang': 1, 'lumayan': 2, 'sering': 3}, inplace=True)\n",
      "C:\\Users\\sdhar\\AppData\\Local\\Temp\\ipykernel_10216\\529129428.py:11: FutureWarning: Downcasting behavior in `replace` is deprecated and will be removed in a future version. To retain the old behavior, explicitly call `result.infer_objects(copy=False)`. To opt-in to the future behavior, set `pd.set_option('future.no_silent_downcasting', True)`\n",
      "  ohe_ts['prod_cat_late_freq'].replace({'never': 0, 'jarang': 1, 'lumayan': 2, 'sering': 3}, inplace=True)\n",
      "C:\\Users\\sdhar\\AppData\\Local\\Temp\\ipykernel_10216\\529129428.py:11: FutureWarning: The behavior of Series.replace (and DataFrame.replace) with CategoricalDtype is deprecated. In a future version, replace will only be used for cases that preserve the categories. To change the categories, use ser.cat.rename_categories instead.\n",
      "  ohe_ts['prod_cat_late_freq'].replace({'never': 0, 'jarang': 1, 'lumayan': 2, 'sering': 3}, inplace=True)\n"
     ]
    }
   ],
   "source": [
    "ohe_ts['price_category'].replace({'cheap': 0, 'affordable': 1, 'expensive': 2}, inplace=True)\n",
    "ohe_ts['volume_category'].replace({'small': 0, 'medium': 1, 'large': 2}, inplace=True)\n",
    "ohe_ts['weight_category'].replace({'light': 0, 'medium': 1, 'heavy': 2}, inplace=True)\n",
    "ohe_ts['freight_category'].replace({'cheap': 0, 'medium': 1, 'expensive': 2}, inplace=True)\n",
    "ohe_ts['zip_late_freq'].replace({'never': 0, 'jarang': 1, 'lumayan': 2, 'sering': 3}, inplace=True)\n",
    "ohe_ts['apmpu_category'].replace({'fast': 0, 'medium': 1, 'slow': 2}, inplace=True)\n",
    "ohe_ts['city_late_freq'].replace({'never': 0, 'jarang': 1, 'lumayan': 2, 'sering': 3}, inplace=True)\n",
    "ohe_ts['state_late_freq'].replace({'never': 0, 'jarang': 1, 'lumayan': 2, 'sering': 3}, inplace=True)\n",
    "ohe_ts['seller_late_freq'].replace({'never': 0, 'jarang': 1, 'lumayan': 2, 'sering': 3}, inplace=True)\n",
    "ohe_ts['product_late_freq'].replace({'never': 0, 'jarang': 1, 'lumayan': 2, 'sering': 3}, inplace=True)\n",
    "ohe_ts['prod_cat_late_freq'].replace({'never': 0, 'jarang': 1, 'lumayan': 2, 'sering': 3}, inplace=True)\n"
   ]
  },
  {
   "cell_type": "code",
   "execution_count": 163,
   "id": "ebaf06f9-558c-4fc4-bad3-859916876380",
   "metadata": {},
   "outputs": [],
   "source": [
    "fix_data = ohe_tr.copy()\n",
    "fix_data2 = ohe_ts.copy()"
   ]
  },
  {
   "cell_type": "code",
   "execution_count": 164,
   "id": "70d20532-fbe3-46bf-b811-98bb0bbd49a0",
   "metadata": {},
   "outputs": [],
   "source": [
    "fix_data.to_csv('./intel-train-finn3.csv', index=False)\n",
    "fix_data2.to_csv('./intel-test-finn3.csv', index=False)"
   ]
  },
  {
   "cell_type": "code",
   "execution_count": 165,
   "id": "2397883c-f077-4527-a214-9c6fd7118f9c",
   "metadata": {},
   "outputs": [],
   "source": [
    "roro = fix_data.drop(['order_id'], axis=1)\n"
   ]
  },
  {
   "cell_type": "code",
   "execution_count": 166,
   "id": "9b8bfac6-d38a-478d-88b7-108a0b7e5fc0",
   "metadata": {},
   "outputs": [],
   "source": [
    "# Create correlation matrix\n",
    "corr_matrix = roro.corr().abs()\n",
    "\n",
    "# Select upper triangle of correlation matrix\n",
    "upper = corr_matrix.where(np.triu(np.ones(corr_matrix.shape), k=1).astype(bool))\n",
    "\n",
    "# Find features with correlation greater than 0.5\n",
    "to_use = [column for column in upper.columns if any(upper[column] > 0.5)]\n"
   ]
  },
  {
   "cell_type": "code",
   "execution_count": 167,
   "id": "c92b4126-2002-4a98-8ea4-c0a2634d7ad2",
   "metadata": {},
   "outputs": [],
   "source": [
    "X = fix_data.drop(['is_late', 'order_id'], axis=1)\n",
    "y = fix_data['is_late']"
   ]
  },
  {
   "cell_type": "code",
   "execution_count": 168,
   "id": "d561db5e-4b4b-470c-826d-11ef7ab722bf",
   "metadata": {},
   "outputs": [],
   "source": [
    "X[X.select_dtypes(include=[\"category\"]).columns] = X[X.select_dtypes(include=[\"category\"]).columns].astype(int)\n"
   ]
  },
  {
   "cell_type": "code",
   "execution_count": 169,
   "id": "ed2cbc07-3966-4069-8c51-db45550a51a3",
   "metadata": {},
   "outputs": [],
   "source": [
    "X_br = X[to_use]\n",
    "y_br = fix_data['is_late']"
   ]
  },
  {
   "cell_type": "code",
   "execution_count": 170,
   "id": "ba86d4b3-f5ed-4d9b-b811-911189d343f0",
   "metadata": {},
   "outputs": [],
   "source": [
    "X_ts = fix_data2.drop(['order_id'], axis=1)"
   ]
  },
  {
   "cell_type": "code",
   "execution_count": 171,
   "id": "6f4c6f5b-1342-407e-8806-122ab754b76b",
   "metadata": {},
   "outputs": [],
   "source": [
    "X_ts[X_ts.select_dtypes(include=[\"category\"]).columns] = X_ts[X_ts.select_dtypes(include=[\"category\"]).columns].astype(int)\n"
   ]
  },
  {
   "cell_type": "code",
   "execution_count": 172,
   "id": "e5a2886b-bbe0-48c5-b12c-3b3ad8a0018f",
   "metadata": {},
   "outputs": [
    {
     "name": "stdout",
     "output_type": "stream",
     "text": [
      "Shape of X_train (69687, 30)\n",
      "Shape of X_test (17422, 30)\n",
      "Shape of y_train (69687,)\n",
      "Shape of y_test (17422,)\n"
     ]
    }
   ],
   "source": [
    "# from sklearn.model_selection import train_test_split\n",
    "X_train, X_test, y_train, y_test = train_test_split(X_br, y_br, test_size=0.2, random_state=42)\n",
    "\n",
    "print('Shape of X_train', X_train.shape)\n",
    "print('Shape of X_test', X_test.shape)\n",
    "print('Shape of y_train', y_train.shape)\n",
    "print('Shape of y_test', y_test.shape)"
   ]
  },
  {
   "cell_type": "code",
   "execution_count": 173,
   "id": "3743e6e0-e776-4c77-92f8-4f24126da759",
   "metadata": {},
   "outputs": [],
   "source": [
    "X_ts = X_ts[X_test.columns]\n"
   ]
  },
  {
   "cell_type": "code",
   "execution_count": 174,
   "id": "35149f6d-faf2-43df-b1e7-ca8a0f58c3aa",
   "metadata": {},
   "outputs": [
    {
     "data": {
      "text/html": [
       "<div>\n",
       "<style scoped>\n",
       "    .dataframe tbody tr th:only-of-type {\n",
       "        vertical-align: middle;\n",
       "    }\n",
       "\n",
       "    .dataframe tbody tr th {\n",
       "        vertical-align: top;\n",
       "    }\n",
       "\n",
       "    .dataframe thead th {\n",
       "        text-align: right;\n",
       "    }\n",
       "</style>\n",
       "<table border=\"1\" class=\"dataframe\">\n",
       "  <thead>\n",
       "    <tr style=\"text-align: right;\">\n",
       "      <th></th>\n",
       "      <th>Model</th>\n",
       "      <th>Accuracy</th>\n",
       "      <th>Precision</th>\n",
       "      <th>Recall</th>\n",
       "      <th>F1-Score</th>\n",
       "      <th>ROC-AUC</th>\n",
       "    </tr>\n",
       "  </thead>\n",
       "  <tbody>\n",
       "  </tbody>\n",
       "</table>\n",
       "</div>"
      ],
      "text/plain": [
       "Empty DataFrame\n",
       "Columns: [Model, Accuracy, Precision, Recall, F1-Score, ROC-AUC]\n",
       "Index: []"
      ]
     },
     "execution_count": 174,
     "metadata": {},
     "output_type": "execute_result"
    }
   ],
   "source": [
    "eval_df = pd.DataFrame(columns=['Model', 'Accuracy', 'Precision', 'Recall', 'F1-Score', 'ROC-AUC'])\n",
    "eval_df"
   ]
  },
  {
   "cell_type": "markdown",
   "id": "d5daccbe-0481-46b9-bd00-efa497dfc0f1",
   "metadata": {},
   "source": [
    "MODELS"
   ]
  },
  {
   "cell_type": "code",
   "execution_count": 175,
   "id": "a00d11ab-7ac4-4747-abbd-958a603af139",
   "metadata": {},
   "outputs": [
    {
     "name": "stdout",
     "output_type": "stream",
     "text": [
      "Classification Report:\n",
      "               precision    recall  f1-score   support\n",
      "\n",
      "           0       0.94      0.98      0.96     16105\n",
      "           1       0.38      0.18      0.24      1317\n",
      "\n",
      "    accuracy                           0.92     17422\n",
      "   macro avg       0.66      0.58      0.60     17422\n",
      "weighted avg       0.89      0.92      0.90     17422\n",
      "\n",
      "KNN Model Accuracy: 0.9158535185397773\n",
      "KNN Model Precision: 0.37886178861788616\n",
      "KNN Model Recall: 0.17691723614274868\n",
      "KNN Model F1-Score: 0.2412008281573499\n",
      "KNN Model ROC-AUC: 0.5765989471617189\n"
     ]
    }
   ],
   "source": [
    "knn = KNeighborsClassifier(n_neighbors=3)\n",
    "knn.fit(X_train, y_train)\n",
    "y_predKNN = knn.predict(X_test)\n",
    "\n",
    "model = 'KNN'\n",
    "# classification report\n",
    "report = classification_report(y_test, y_predKNN)\n",
    "print('Classification Report:\\n', report)\n",
    "\n",
    "# calculate and print model accuracy\n",
    "knn_acc = accuracy_score(y_test, y_predKNN)\n",
    "print(\"KNN Model Accuracy:\", accuracy_score(y_test, y_predKNN))\n",
    "\n",
    "# calculate and print model precision\n",
    "knn_prc = precision_score(y_test, y_predKNN)\n",
    "print(\"KNN Model Precision:\", precision_score(y_test, y_predKNN))\n",
    "\n",
    "# calculate and print model recall\n",
    "knn_rcl = recall_score(y_test, y_predKNN)\n",
    "print(\"KNN Model Recall:\", recall_score(y_test, y_predKNN))\n",
    "\n",
    "# calculate and print model f1-score\n",
    "knn_f1s = f1_score(y_test, y_predKNN)\n",
    "print(\"KNN Model F1-Score:\", f1_score(y_test, y_predKNN))\n",
    "\n",
    "# calculate and print model roc-auc\n",
    "knn_rau = roc_auc_score(y_test, y_predKNN)\n",
    "print(\"KNN Model ROC-AUC:\", roc_auc_score(y_test, y_predKNN))\n",
    "\n",
    "new_eval = {'Model': model, 'Accuracy': knn_acc, 'Precision': knn_prc, 'Recall': knn_rcl, 'F1-Score': knn_f1s, 'ROC-AUC': knn_rau}\n",
    "eval_df.loc[len(eval_df)] = new_eval"
   ]
  },
  {
   "cell_type": "code",
   "execution_count": 176,
   "id": "40703035-2e97-4833-a788-df42e7d88b01",
   "metadata": {},
   "outputs": [],
   "source": [
    "y_pred_knn = knn.predict(X_ts)\n",
    "y_id = fix_data2[['order_id']]\n",
    "label = pd.DataFrame(y_pred_knn, columns=['is_late'])\n",
    "submissionKNN = pd.concat([y_id, label], axis=1)\n",
    "submissionKNN.to_csv('./subsfix-KNN.csv', index=False)"
   ]
  },
  {
   "cell_type": "code",
   "execution_count": 177,
   "id": "ed8af1f0-258c-4635-bf24-7dc867e9cf2e",
   "metadata": {},
   "outputs": [
    {
     "name": "stdout",
     "output_type": "stream",
     "text": [
      "Classification Report:\n",
      "               precision    recall  f1-score   support\n",
      "\n",
      "           0       0.97      0.97      0.97     16105\n",
      "           1       0.66      0.67      0.66      1317\n",
      "\n",
      "    accuracy                           0.95     17422\n",
      "   macro avg       0.82      0.82      0.82     17422\n",
      "weighted avg       0.95      0.95      0.95     17422\n",
      "\n",
      "DT Model Accuracy: 0.9488003673516244\n",
      "DT Model Precision: 0.6596543951915853\n",
      "DT Model Recall: 0.6666666666666666\n",
      "DT Model F1-Score: 0.6631419939577039\n",
      "DT Model ROC-AUC: 0.8192693780399462\n"
     ]
    }
   ],
   "source": [
    "dt = DecisionTreeClassifier()\n",
    "dt.fit(X_train, y_train)\n",
    "y_predDT = dt.predict(X_test)\n",
    "\n",
    "model = 'Decision Tree'\n",
    "# classification report\n",
    "report = classification_report(y_test, y_predDT)\n",
    "print('Classification Report:\\n', report)\n",
    "\n",
    "# calculate and print model accuracy\n",
    "dt_acc = accuracy_score(y_test, y_predDT)\n",
    "print(\"DT Model Accuracy:\", accuracy_score(y_test, y_predDT))\n",
    "\n",
    "# calculate and print model precision\n",
    "dt_prc = precision_score(y_test, y_predDT)\n",
    "print(\"DT Model Precision:\", precision_score(y_test, y_predDT))\n",
    "\n",
    "# calculate and print model recall\n",
    "dt_rcl = recall_score(y_test, y_predDT)\n",
    "print(\"DT Model Recall:\", recall_score(y_test, y_predDT))\n",
    "\n",
    "# calculate and print model f1-score\n",
    "dt_f1s = f1_score(y_test, y_predDT)\n",
    "print(\"DT Model F1-Score:\", f1_score(y_test, y_predDT))\n",
    "\n",
    "# calculate and print model roc-auc\n",
    "dt_rau = roc_auc_score(y_test, y_predDT)\n",
    "print(\"DT Model ROC-AUC:\", roc_auc_score(y_test, y_predDT))\n",
    "\n",
    "new_eval = {'Model': model, 'Accuracy': dt_acc, 'Precision': dt_prc, 'Recall': dt_rcl, 'F1-Score': dt_f1s, 'ROC-AUC': dt_rau}\n",
    "eval_df.loc[len(eval_df)] = new_eval"
   ]
  },
  {
   "cell_type": "code",
   "execution_count": 178,
   "id": "292a8d75-c028-4a01-b93e-a25ebe5c1713",
   "metadata": {},
   "outputs": [],
   "source": [
    "y_pred_dt = dt.predict(X_ts)\n",
    "y_id = fix_data2[['order_id']]\n",
    "label = pd.DataFrame(y_pred_dt, columns=['is_late'])\n",
    "submissionDT = pd.concat([y_id, label], axis=1)\n",
    "submissionDT.to_csv('./subsfix-DT.csv', index=False)"
   ]
  },
  {
   "cell_type": "code",
   "execution_count": 179,
   "id": "fd202c75-bdaa-476e-81f0-a62143eba2bb",
   "metadata": {},
   "outputs": [
    {
     "name": "stdout",
     "output_type": "stream",
     "text": [
      "Classification Report:\n",
      "               precision    recall  f1-score   support\n",
      "\n",
      "           0       0.97      0.99      0.98     16105\n",
      "           1       0.78      0.63      0.70      1317\n",
      "\n",
      "    accuracy                           0.96     17422\n",
      "   macro avg       0.88      0.81      0.84     17422\n",
      "weighted avg       0.96      0.96      0.96     17422\n",
      "\n",
      "XGB Model Accuracy: 0.9590747330960854\n",
      "XGB Model Precision: 0.7838345864661654\n",
      "XGB Model Recall: 0.6332574031890661\n",
      "XGB Model F1-Score: 0.7005459890802184\n",
      "XGB Model ROC-AUC: 0.8094880620415992\n"
     ]
    }
   ],
   "source": [
    "xgb = XGBClassifier()\n",
    "xgb.fit(X_train, y_train)\n",
    "y_predXGB = xgb.predict(X_test)\n",
    "\n",
    "model = 'XGBoost'\n",
    "# classification report\n",
    "report = classification_report(y_test, y_predXGB)\n",
    "print('Classification Report:\\n', report)\n",
    "\n",
    "# calculate and print model accuracy\n",
    "xgb_acc = accuracy_score(y_test, y_predXGB)\n",
    "print(\"XGB Model Accuracy:\", accuracy_score(y_test, y_predXGB))\n",
    "# calculate and print model precision\n",
    "xgb_prc = precision_score(y_test, y_predXGB)\n",
    "print(\"XGB Model Precision:\", precision_score(y_test, y_predXGB))\n",
    "\n",
    "# calculate and print model recall\n",
    "xgb_rcl = recall_score(y_test, y_predXGB)\n",
    "print(\"XGB Model Recall:\", recall_score(y_test, y_predXGB))\n",
    "\n",
    "# calculate and print model f1-score\n",
    "xgb_f1s = f1_score(y_test, y_predXGB)\n",
    "print(\"XGB Model F1-Score:\", f1_score(y_test, y_predXGB))\n",
    "\n",
    "# calculate and print model roc-auc\n",
    "xgb_rau = roc_auc_score(y_test, y_predXGB)\n",
    "print(\"XGB Model ROC-AUC:\", roc_auc_score(y_test, y_predXGB))\n",
    "\n",
    "new_eval = {'Model': model, 'Accuracy': xgb_acc, 'Precision': xgb_prc, 'Recall': xgb_rcl, 'F1-Score': xgb_f1s, 'ROC-AUC': xgb_rau}\n",
    "eval_df.loc[len(eval_df)] = new_eval"
   ]
  },
  {
   "cell_type": "code",
   "execution_count": 180,
   "id": "c14d614e-2608-4854-bea4-d2bea540d479",
   "metadata": {},
   "outputs": [],
   "source": [
    "y_pred_xgb = xgb.predict(X_ts)\n",
    "y_id = fix_data2[['order_id']]\n",
    "label = pd.DataFrame(y_pred_xgb, columns=['is_late'])\n",
    "submissionXGB = pd.concat([y_id, label], axis=1)\n",
    "submissionXGB.to_csv('./subsfix-XGB.csv', index=False)"
   ]
  },
  {
   "cell_type": "code",
   "execution_count": 181,
   "id": "6982d04f-939f-4aeb-a1e3-2c9b172d891a",
   "metadata": {},
   "outputs": [
    {
     "name": "stdout",
     "output_type": "stream",
     "text": [
      "Classification Report:\n",
      "               precision    recall  f1-score   support\n",
      "\n",
      "           0       0.97      0.99      0.98     16105\n",
      "           1       0.83      0.64      0.73      1317\n",
      "\n",
      "    accuracy                           0.96     17422\n",
      "   macro avg       0.90      0.82      0.85     17422\n",
      "weighted avg       0.96      0.96      0.96     17422\n",
      "\n",
      "RF Model Accuracy: 0.9630926414877741\n",
      "RF Model Precision: 0.8291015625\n",
      "RF Model Recall: 0.6446469248291572\n",
      "RF Model F1-Score: 0.7253310551046561\n",
      "RF Model ROC-AUC: 0.8168903671025636\n"
     ]
    }
   ],
   "source": [
    "from sklearn.ensemble import RandomForestClassifier\n",
    "from sklearn.metrics import classification_report, accuracy_score, precision_score, recall_score, f1_score, roc_auc_score\n",
    "import pandas as pd\n",
    "import pickle\n",
    "\n",
    "# Initialize and fit the Random Forest model\n",
    "rf = RandomForestClassifier()\n",
    "rf.fit(X_train, y_train)\n",
    "\n",
    "# Make predictions\n",
    "y_predRF = rf.predict(X_test)\n",
    "\n",
    "model = 'Random Forest'\n",
    "\n",
    "# Classification report\n",
    "report = classification_report(y_test, y_predRF)\n",
    "print('Classification Report:\\n', report)\n",
    "\n",
    "# Calculate and print model accuracy\n",
    "rf_acc = accuracy_score(y_test, y_predRF)\n",
    "print(\"RF Model Accuracy:\", rf_acc)\n",
    "\n",
    "# Calculate and print model precision\n",
    "rf_prc = precision_score(y_test, y_predRF)\n",
    "print(\"RF Model Precision:\", rf_prc)\n",
    "\n",
    "# Calculate and print model recall\n",
    "rf_rcl = recall_score(y_test, y_predRF)\n",
    "print(\"RF Model Recall:\", rf_rcl)\n",
    "\n",
    "# Calculate and print model f1-score\n",
    "rf_f1s = f1_score(y_test, y_predRF)\n",
    "print(\"RF Model F1-Score:\", rf_f1s)\n",
    "\n",
    "# Calculate and print model roc-auc\n",
    "rf_rau = roc_auc_score(y_test, y_predRF)\n",
    "print(\"RF Model ROC-AUC:\", rf_rau)\n",
    "\n",
    "# Update evaluation DataFrame\n",
    "new_eval = {\n",
    "    'Model': model,\n",
    "    'Accuracy': rf_acc,\n",
    "    'Precision': rf_prc,\n",
    "    'Recall': rf_rcl,\n",
    "    'F1-Score': rf_f1s,\n",
    "    'ROC-AUC': rf_rau\n",
    "}\n",
    "eval_df.loc[len(eval_df)] = new_eval\n",
    "\n",
    "#laod\n",
    "import pickle\n",
    "from sklearn.preprocessing import StandardScaler\n",
    "pickle.dump(rf,open('regmodel.pkl','wb'))\n",
    "\n"
   ]
  },
  {
   "cell_type": "code",
   "execution_count": 182,
   "id": "48927f54-f300-4d09-8916-977a9431137f",
   "metadata": {},
   "outputs": [
    {
     "data": {
      "text/html": [
       "<div>\n",
       "<style scoped>\n",
       "    .dataframe tbody tr th:only-of-type {\n",
       "        vertical-align: middle;\n",
       "    }\n",
       "\n",
       "    .dataframe tbody tr th {\n",
       "        vertical-align: top;\n",
       "    }\n",
       "\n",
       "    .dataframe thead th {\n",
       "        text-align: right;\n",
       "    }\n",
       "</style>\n",
       "<table border=\"1\" class=\"dataframe\">\n",
       "  <thead>\n",
       "    <tr style=\"text-align: right;\">\n",
       "      <th></th>\n",
       "      <th>Model</th>\n",
       "      <th>Accuracy</th>\n",
       "      <th>Precision</th>\n",
       "      <th>Recall</th>\n",
       "      <th>F1-Score</th>\n",
       "      <th>ROC-AUC</th>\n",
       "    </tr>\n",
       "  </thead>\n",
       "  <tbody>\n",
       "    <tr>\n",
       "      <th>3</th>\n",
       "      <td>Random Forest</td>\n",
       "      <td>0.963093</td>\n",
       "      <td>0.829102</td>\n",
       "      <td>0.644647</td>\n",
       "      <td>0.725331</td>\n",
       "      <td>0.816890</td>\n",
       "    </tr>\n",
       "    <tr>\n",
       "      <th>2</th>\n",
       "      <td>XGBoost</td>\n",
       "      <td>0.959075</td>\n",
       "      <td>0.783835</td>\n",
       "      <td>0.633257</td>\n",
       "      <td>0.700546</td>\n",
       "      <td>0.809488</td>\n",
       "    </tr>\n",
       "    <tr>\n",
       "      <th>1</th>\n",
       "      <td>Decision Tree</td>\n",
       "      <td>0.948800</td>\n",
       "      <td>0.659654</td>\n",
       "      <td>0.666667</td>\n",
       "      <td>0.663142</td>\n",
       "      <td>0.819269</td>\n",
       "    </tr>\n",
       "    <tr>\n",
       "      <th>0</th>\n",
       "      <td>KNN</td>\n",
       "      <td>0.915854</td>\n",
       "      <td>0.378862</td>\n",
       "      <td>0.176917</td>\n",
       "      <td>0.241201</td>\n",
       "      <td>0.576599</td>\n",
       "    </tr>\n",
       "  </tbody>\n",
       "</table>\n",
       "</div>"
      ],
      "text/plain": [
       "           Model  Accuracy  Precision    Recall  F1-Score   ROC-AUC\n",
       "3  Random Forest  0.963093   0.829102  0.644647  0.725331  0.816890\n",
       "2        XGBoost  0.959075   0.783835  0.633257  0.700546  0.809488\n",
       "1  Decision Tree  0.948800   0.659654  0.666667  0.663142  0.819269\n",
       "0            KNN  0.915854   0.378862  0.176917  0.241201  0.576599"
      ]
     },
     "execution_count": 182,
     "metadata": {},
     "output_type": "execute_result"
    }
   ],
   "source": [
    "eval_df.sort_values(by=['Accuracy'], ascending=False)"
   ]
  },
  {
   "cell_type": "code",
   "execution_count": null,
   "id": "4d0c3f9f-30be-4d4a-b465-c80d37d14b17",
   "metadata": {},
   "outputs": [],
   "source": []
  }
 ],
 "metadata": {
  "kernelspec": {
   "display_name": "Python 3 (ipykernel)",
   "language": "python",
   "name": "python3"
  },
  "language_info": {
   "codemirror_mode": {
    "name": "ipython",
    "version": 3
   },
   "file_extension": ".py",
   "mimetype": "text/x-python",
   "name": "python",
   "nbconvert_exporter": "python",
   "pygments_lexer": "ipython3",
   "version": "3.12.4"
  }
 },
 "nbformat": 4,
 "nbformat_minor": 5
}
